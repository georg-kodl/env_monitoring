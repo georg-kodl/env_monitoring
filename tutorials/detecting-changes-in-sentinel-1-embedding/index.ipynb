{
  "nbformat": 4,
  "nbformat_minor": 0,
  "metadata": {
    "colab": {
      "name": "Detecting Changes in Sentinel-1 Imagery (Part 1)",
      "provenance": [],
      "toc_visible": true
    },
    "kernelspec": {
      "name": "python3",
      "display_name": "Python 3"
    }
  },
  "cells": [
    {
      "cell_type": "code",
      "source": [
        "import ee\n",
        "\n",
        "# Trigger the authentication flow.\n",
        "ee.Authenticate()\n",
        "\n",
        "# Initialize the library.\n",
        "ee.Initialize(project='forest-loss-monitoring')"
      ],
      "metadata": {
        "id": "uytEQBn6BNTp"
      },
      "execution_count": 15,
      "outputs": []
    },
    {
      "cell_type": "markdown",
      "metadata": {
        "id": "61defde3"
      },
      "source": [
        "# Task\n",
        "Generate Python code to visualize the most recent Sentinel-1 VH and VV polarization data for Nuremberg Castle, Germany, step-by-step and concisely."
      ]
    },
    {
      "cell_type": "markdown",
      "metadata": {
        "id": "69eb782c"
      },
      "source": [
        "## Define the area of interest (aoi)\n",
        "\n",
        "### Subtask:\n",
        "Create a polygon or bounding box around Nuremberg Castle.\n"
      ]
    },
    {
      "cell_type": "markdown",
      "metadata": {
        "id": "2f57ce7f"
      },
      "source": [
        "**Reasoning**:\n",
        "Import the necessary library and define the area of interest around Nuremberg Castle using a bounding box.\n",
        "\n"
      ]
    },
    {
      "cell_type": "code",
      "metadata": {
        "id": "1f25fcfd"
      },
      "source": [
        "from shapely.geometry import box\n",
        "\n",
        "# Approximate coordinates for Nuremberg Castle\n",
        "latitude = 49.4542\n",
        "longitude = 11.0784\n",
        "\n",
        "# Define a bounding box around the castle\n",
        "# Using a small buffer around the coordinates\n",
        "buffer = 0.1  # degrees\n",
        "\n",
        "min_lon = longitude - buffer\n",
        "min_lat = latitude - buffer\n",
        "max_lon = longitude + buffer\n",
        "max_lat = latitude + buffer\n",
        "\n",
        "aoi = box(min_lon, min_lat, max_lon, max_lat)"
      ],
      "execution_count": 25,
      "outputs": []
    },
    {
      "cell_type": "markdown",
      "metadata": {
        "id": "ed121a19"
      },
      "source": [
        "## Search for sentinel-1 data\n",
        "\n",
        "### Subtask:\n",
        "Use the AOI and date range to find the most recent Sentinel-1 images with VH and VV polarization.\n"
      ]
    },
    {
      "cell_type": "markdown",
      "metadata": {
        "id": "ce97b9af"
      },
      "source": [
        "**Reasoning**:\n",
        "Import necessary libraries and define the time range, instance ID, and create the SentinelHubRequest object including data collection, download task, evalscript task, and maxcc parameter.\n",
        "\n"
      ]
    },
    {
      "cell_type": "markdown",
      "metadata": {
        "id": "edad9ec6"
      },
      "source": [
        "### Search for Sentinel-1 data\n",
        "\n",
        "**Reasoning**:\n",
        "Filter the Sentinel-1 collection by date, area of interest, and polarization. Then, select the most recent image."
      ]
    },
    {
      "cell_type": "code",
      "metadata": {
        "id": "e7d2b289"
      },
      "source": [
        "# Define the date range for the most recent data\n",
        "from datetime import date, timedelta\n",
        "\n",
        "end_date = date.today().strftime('%Y-%m-%d')\n",
        "start_date = (date.today() - timedelta(days=30)).strftime('%Y-%m-%d') # Search in the last 30 days\n",
        "\n",
        "# Convert the shapely AOI to Earth Engine geometry\n",
        "ee_aoi = ee.Geometry.Polygon(list(aoi.exterior.coords))\n",
        "\n",
        "# Load the Sentinel-1 collection\n",
        "sentinel1 = ee.ImageCollection('COPERNICUS/S1_GRD')\n",
        "\n",
        "# Filter the collection\n",
        "filtered_collection = sentinel1.filterDate(start_date, end_date) \\\n",
        "                               .filterBounds(ee_aoi) \\\n",
        "                               .filter(ee.Filter.listContains('transmitterReceiverPolarisation', 'VH')) \\\n",
        "                               .filter(ee.Filter.listContains('transmitterReceiverPolarisation', 'VV')) \\\n",
        "                               .filter(ee.Filter.eq('instrumentMode', 'IW')) # Interferometric Wide Swath\n",
        "\n",
        "# Select the most recent image\n",
        "# most_recent_image = filtered_collection.sort('system:time_start', False).first()\n",
        "\n",
        "# Mosaic the filtered collection to stitch images together\n",
        "stitched_image = filtered_collection.mosaic()\n",
        "\n",
        "\n",
        "# Display the most recent image information\n",
        "# print(\"Most recent image acquisition date:\", most_recent_image.get('system:time_start').getInfo())"
      ],
      "execution_count": 28,
      "outputs": []
    },
    {
      "cell_type": "code",
      "source": [
        "# Select the VH and VV bands\n",
        "vh_band = stitched_image.select('VH')\n",
        "vv_band = stitched_image.select('VV')\n",
        "\n",
        "# Define visualization parameters for the bands\n",
        "vh_vis_params = {'min': -25, 'max': 0}\n",
        "vv_vis_params = {'min': -25, 'max': 0}\n",
        "\n",
        "# Create a Folium map centered on the AOI\n",
        "center_lat = (min_lat + max_lat) / 2\n",
        "center_lon = (min_lon + max_lon) / 2\n",
        "my_map = folium.Map(location=[center_lat, center_lon], zoom_start=12) # Reduced zoom for wider view\n",
        "\n",
        "# Add the VH and VV layers to the map\n",
        "my_map.add_ee_layer(vh_band, vh_vis_params, 'Sentinel-1 VH')\n",
        "my_map.add_ee_layer(vv_band, vv_vis_params, 'Sentinel-1 VV')\n",
        "\n",
        "# Add a layer control panel to the map\n",
        "my_map.add_child(folium.LayerControl())\n",
        "\n",
        "# Display the map\n",
        "display(my_map)"
      ],
      "metadata": {
        "colab": {
          "base_uri": "https://localhost:8080/",
          "height": 768
        },
        "id": "4el7AYFXLWoq",
        "outputId": "13618acd-020a-4b17-ebb4-601fbc284382"
      },
      "execution_count": 29,
      "outputs": [
        {
          "output_type": "display_data",
          "data": {
            "text/plain": [
              "<folium.folium.Map at 0x79712de6cfd0>"
            ],
            "text/html": [
              "<div style=\"width:100%;\"><div style=\"position:relative;width:100%;height:0;padding-bottom:60%;\"><span style=\"color:#565656\">Make this Notebook Trusted to load map: File -> Trust Notebook</span><iframe srcdoc=\"&lt;!DOCTYPE html&gt;\n",
              "&lt;html&gt;\n",
              "&lt;head&gt;\n",
              "    \n",
              "    &lt;meta http-equiv=&quot;content-type&quot; content=&quot;text/html; charset=UTF-8&quot; /&gt;\n",
              "    &lt;script src=&quot;https://cdn.jsdelivr.net/npm/leaflet@1.9.3/dist/leaflet.js&quot;&gt;&lt;/script&gt;\n",
              "    &lt;script src=&quot;https://code.jquery.com/jquery-3.7.1.min.js&quot;&gt;&lt;/script&gt;\n",
              "    &lt;script src=&quot;https://cdn.jsdelivr.net/npm/bootstrap@5.2.2/dist/js/bootstrap.bundle.min.js&quot;&gt;&lt;/script&gt;\n",
              "    &lt;script src=&quot;https://cdnjs.cloudflare.com/ajax/libs/Leaflet.awesome-markers/2.0.2/leaflet.awesome-markers.js&quot;&gt;&lt;/script&gt;\n",
              "    &lt;link rel=&quot;stylesheet&quot; href=&quot;https://cdn.jsdelivr.net/npm/leaflet@1.9.3/dist/leaflet.css&quot;/&gt;\n",
              "    &lt;link rel=&quot;stylesheet&quot; href=&quot;https://cdn.jsdelivr.net/npm/bootstrap@5.2.2/dist/css/bootstrap.min.css&quot;/&gt;\n",
              "    &lt;link rel=&quot;stylesheet&quot; href=&quot;https://netdna.bootstrapcdn.com/bootstrap/3.0.0/css/bootstrap-glyphicons.css&quot;/&gt;\n",
              "    &lt;link rel=&quot;stylesheet&quot; href=&quot;https://cdn.jsdelivr.net/npm/@fortawesome/fontawesome-free@6.2.0/css/all.min.css&quot;/&gt;\n",
              "    &lt;link rel=&quot;stylesheet&quot; href=&quot;https://cdnjs.cloudflare.com/ajax/libs/Leaflet.awesome-markers/2.0.2/leaflet.awesome-markers.css&quot;/&gt;\n",
              "    &lt;link rel=&quot;stylesheet&quot; href=&quot;https://cdn.jsdelivr.net/gh/python-visualization/folium/folium/templates/leaflet.awesome.rotate.min.css&quot;/&gt;\n",
              "    \n",
              "            &lt;meta name=&quot;viewport&quot; content=&quot;width=device-width,\n",
              "                initial-scale=1.0, maximum-scale=1.0, user-scalable=no&quot; /&gt;\n",
              "            &lt;style&gt;\n",
              "                #map_95cb9ec9a47c1bda560bd5e31425466a {\n",
              "                    position: relative;\n",
              "                    width: 100.0%;\n",
              "                    height: 100.0%;\n",
              "                    left: 0.0%;\n",
              "                    top: 0.0%;\n",
              "                }\n",
              "                .leaflet-container { font-size: 1rem; }\n",
              "            &lt;/style&gt;\n",
              "\n",
              "            &lt;style&gt;html, body {\n",
              "                width: 100%;\n",
              "                height: 100%;\n",
              "                margin: 0;\n",
              "                padding: 0;\n",
              "            }\n",
              "            &lt;/style&gt;\n",
              "\n",
              "            &lt;style&gt;#map {\n",
              "                position:absolute;\n",
              "                top:0;\n",
              "                bottom:0;\n",
              "                right:0;\n",
              "                left:0;\n",
              "                }\n",
              "            &lt;/style&gt;\n",
              "\n",
              "            &lt;script&gt;\n",
              "                L_NO_TOUCH = false;\n",
              "                L_DISABLE_3D = false;\n",
              "            &lt;/script&gt;\n",
              "\n",
              "        \n",
              "&lt;/head&gt;\n",
              "&lt;body&gt;\n",
              "    \n",
              "    \n",
              "            &lt;div class=&quot;folium-map&quot; id=&quot;map_95cb9ec9a47c1bda560bd5e31425466a&quot; &gt;&lt;/div&gt;\n",
              "        \n",
              "&lt;/body&gt;\n",
              "&lt;script&gt;\n",
              "    \n",
              "    \n",
              "            var map_95cb9ec9a47c1bda560bd5e31425466a = L.map(\n",
              "                &quot;map_95cb9ec9a47c1bda560bd5e31425466a&quot;,\n",
              "                {\n",
              "                    center: [49.4542, 11.0784],\n",
              "                    crs: L.CRS.EPSG3857,\n",
              "                    ...{\n",
              "  &quot;zoom&quot;: 12,\n",
              "  &quot;zoomControl&quot;: true,\n",
              "  &quot;preferCanvas&quot;: false,\n",
              "}\n",
              "\n",
              "                }\n",
              "            );\n",
              "\n",
              "            \n",
              "\n",
              "        \n",
              "    \n",
              "            var tile_layer_8c7c12c1649e4a9d9575af46e39be96e = L.tileLayer(\n",
              "                &quot;https://tile.openstreetmap.org/{z}/{x}/{y}.png&quot;,\n",
              "                {\n",
              "  &quot;minZoom&quot;: 0,\n",
              "  &quot;maxZoom&quot;: 19,\n",
              "  &quot;maxNativeZoom&quot;: 19,\n",
              "  &quot;noWrap&quot;: false,\n",
              "  &quot;attribution&quot;: &quot;\\u0026copy; \\u003ca href=\\&quot;https://www.openstreetmap.org/copyright\\&quot;\\u003eOpenStreetMap\\u003c/a\\u003e contributors&quot;,\n",
              "  &quot;subdomains&quot;: &quot;abc&quot;,\n",
              "  &quot;detectRetina&quot;: false,\n",
              "  &quot;tms&quot;: false,\n",
              "  &quot;opacity&quot;: 1,\n",
              "}\n",
              "\n",
              "            );\n",
              "        \n",
              "    \n",
              "            tile_layer_8c7c12c1649e4a9d9575af46e39be96e.addTo(map_95cb9ec9a47c1bda560bd5e31425466a);\n",
              "        \n",
              "    \n",
              "            var tile_layer_c39c8b365a1c15dfeebf9d611de7f9e0 = L.tileLayer(\n",
              "                &quot;https://earthengine.googleapis.com/v1/projects/forest-loss-monitoring/maps/d75911e3aad7dedb540ccd5e8d33f37c-d53ee168b3198be27d546fbd193eed4b/tiles/{z}/{x}/{y}&quot;,\n",
              "                {\n",
              "  &quot;minZoom&quot;: 0,\n",
              "  &quot;maxZoom&quot;: 18,\n",
              "  &quot;maxNativeZoom&quot;: 18,\n",
              "  &quot;noWrap&quot;: false,\n",
              "  &quot;attribution&quot;: &quot;Map Data \\u0026copy; \\u003ca href=\\&quot;https://earthengine.google.com/\\&quot;\\u003eGoogle Earth Engine\\u003c/a\\u003e&quot;,\n",
              "  &quot;subdomains&quot;: &quot;abc&quot;,\n",
              "  &quot;detectRetina&quot;: false,\n",
              "  &quot;tms&quot;: false,\n",
              "  &quot;opacity&quot;: 1,\n",
              "}\n",
              "\n",
              "            );\n",
              "        \n",
              "    \n",
              "            tile_layer_c39c8b365a1c15dfeebf9d611de7f9e0.addTo(map_95cb9ec9a47c1bda560bd5e31425466a);\n",
              "        \n",
              "    \n",
              "            var tile_layer_8e161300ec4f2543dbdcc5aea8127db1 = L.tileLayer(\n",
              "                &quot;https://earthengine.googleapis.com/v1/projects/forest-loss-monitoring/maps/6bfec63f1932e29073389e80b8c1d08a-4d1829964ee78928bdb8e128bc0b822f/tiles/{z}/{x}/{y}&quot;,\n",
              "                {\n",
              "  &quot;minZoom&quot;: 0,\n",
              "  &quot;maxZoom&quot;: 18,\n",
              "  &quot;maxNativeZoom&quot;: 18,\n",
              "  &quot;noWrap&quot;: false,\n",
              "  &quot;attribution&quot;: &quot;Map Data \\u0026copy; \\u003ca href=\\&quot;https://earthengine.google.com/\\&quot;\\u003eGoogle Earth Engine\\u003c/a\\u003e&quot;,\n",
              "  &quot;subdomains&quot;: &quot;abc&quot;,\n",
              "  &quot;detectRetina&quot;: false,\n",
              "  &quot;tms&quot;: false,\n",
              "  &quot;opacity&quot;: 1,\n",
              "}\n",
              "\n",
              "            );\n",
              "        \n",
              "    \n",
              "            tile_layer_8e161300ec4f2543dbdcc5aea8127db1.addTo(map_95cb9ec9a47c1bda560bd5e31425466a);\n",
              "        \n",
              "    \n",
              "            var layer_control_47cd2f14a7be88b0512e910203e41250_layers = {\n",
              "                base_layers : {\n",
              "                    &quot;openstreetmap&quot; : tile_layer_8c7c12c1649e4a9d9575af46e39be96e,\n",
              "                },\n",
              "                overlays :  {\n",
              "                    &quot;Sentinel-1 VH&quot; : tile_layer_c39c8b365a1c15dfeebf9d611de7f9e0,\n",
              "                    &quot;Sentinel-1 VV&quot; : tile_layer_8e161300ec4f2543dbdcc5aea8127db1,\n",
              "                },\n",
              "            };\n",
              "            let layer_control_47cd2f14a7be88b0512e910203e41250 = L.control.layers(\n",
              "                layer_control_47cd2f14a7be88b0512e910203e41250_layers.base_layers,\n",
              "                layer_control_47cd2f14a7be88b0512e910203e41250_layers.overlays,\n",
              "                {\n",
              "  &quot;position&quot;: &quot;topright&quot;,\n",
              "  &quot;collapsed&quot;: true,\n",
              "  &quot;autoZIndex&quot;: true,\n",
              "}\n",
              "            ).addTo(map_95cb9ec9a47c1bda560bd5e31425466a);\n",
              "\n",
              "        \n",
              "&lt;/script&gt;\n",
              "&lt;/html&gt;\" style=\"position:absolute;width:100%;height:100%;left:0;top:0;border:none !important;\" allowfullscreen webkitallowfullscreen mozallowfullscreen></iframe></div></div>"
            ]
          },
          "metadata": {}
        }
      ]
    },
    {
      "cell_type": "markdown",
      "metadata": {
        "id": "10c57418"
      },
      "source": [
        "## Access and Display Google Satellite Embedding Data\n",
        "\n",
        "### Subtask:\n",
        "Load an image from the Google Satellite Embedding Collection for the area of interest."
      ]
    },
    {
      "cell_type": "markdown",
      "metadata": {
        "id": "b243c618"
      },
      "source": [
        "**Reasoning**:\n",
        "Load the Google Satellite Embedding Collection, filter it by the area of interest and date, and select an image to display."
      ]
    },
    {
      "cell_type": "code",
      "metadata": {
        "colab": {
          "base_uri": "https://localhost:8080/",
          "height": 805
        },
        "id": "81c02577",
        "outputId": "2fd96438-eb5b-40e5-cbe9-a6ea2cc8c113"
      },
      "source": [
        "# Load the Google Satellite Embedding Collection\n",
        "embedding_collection = ee.ImageCollection('GOOGLE/SATELLITE_EMBEDDING/V1/ANNUAL')\n",
        "\n",
        "# Filter the collection by the area of interest\n",
        "filtered_embedding_collection = embedding_collection.filterBounds(ee_aoi)\n",
        "\n",
        "# Select the most recent image in the filtered collection (assuming there is one)\n",
        "# You might need to adjust date filtering based on the dataset's available dates\n",
        "most_recent_embedding_image = filtered_embedding_collection.sort('system:time_start', False).first()\n",
        "\n",
        "# Print information about the selected image\n",
        "print(\"Most recent embedding image information:\", most_recent_embedding_image.getInfo())\n",
        "\n",
        "# Define visualization parameters for the embedding image (this will depend on what you want to visualize)\n",
        "# For demonstration, let's visualize the first three bands as RGB\n",
        "# Updated min/max based on the calculated values for A00, A01, A02\n",
        "embedding_vis_params = {'bands': ['A00', 'A01', 'A02'], 'min': -0.6, 'max': 0.3}\n",
        "\n",
        "\n",
        "# Create a Folium map centered on the AOI\n",
        "center_lat = (min_lat + max_lat) / 2\n",
        "center_lon = (min_lon + max_lon) / 2\n",
        "embedding_map = folium.Map(location=[center_lat, center_lon], zoom_start=12)\n",
        "\n",
        "# Add the embedding layer to the map\n",
        "embedding_map.add_ee_layer(most_recent_embedding_image, embedding_vis_params, 'Satellite Embedding')\n",
        "\n",
        "# Add a layer control panel to the map\n",
        "embedding_map.add_child(folium.LayerControl())\n",
        "\n",
        "# Display the map\n",
        "display(embedding_map)"
      ],
      "execution_count": 35,
      "outputs": [
        {
          "output_type": "stream",
          "name": "stdout",
          "text": [
            "Most recent embedding image information: {'type': 'Image', 'bands': [{'id': 'A00', 'data_type': {'type': 'PixelType', 'precision': 'double'}, 'dimensions': [16384, 16384], 'crs': 'EPSG:32632', 'crs_transform': [10, 0, 500000, 0, 10, 5406720]}, {'id': 'A01', 'data_type': {'type': 'PixelType', 'precision': 'double'}, 'dimensions': [16384, 16384], 'crs': 'EPSG:32632', 'crs_transform': [10, 0, 500000, 0, 10, 5406720]}, {'id': 'A02', 'data_type': {'type': 'PixelType', 'precision': 'double'}, 'dimensions': [16384, 16384], 'crs': 'EPSG:32632', 'crs_transform': [10, 0, 500000, 0, 10, 5406720]}, {'id': 'A03', 'data_type': {'type': 'PixelType', 'precision': 'double'}, 'dimensions': [16384, 16384], 'crs': 'EPSG:32632', 'crs_transform': [10, 0, 500000, 0, 10, 5406720]}, {'id': 'A04', 'data_type': {'type': 'PixelType', 'precision': 'double'}, 'dimensions': [16384, 16384], 'crs': 'EPSG:32632', 'crs_transform': [10, 0, 500000, 0, 10, 5406720]}, {'id': 'A05', 'data_type': {'type': 'PixelType', 'precision': 'double'}, 'dimensions': [16384, 16384], 'crs': 'EPSG:32632', 'crs_transform': [10, 0, 500000, 0, 10, 5406720]}, {'id': 'A06', 'data_type': {'type': 'PixelType', 'precision': 'double'}, 'dimensions': [16384, 16384], 'crs': 'EPSG:32632', 'crs_transform': [10, 0, 500000, 0, 10, 5406720]}, {'id': 'A07', 'data_type': {'type': 'PixelType', 'precision': 'double'}, 'dimensions': [16384, 16384], 'crs': 'EPSG:32632', 'crs_transform': [10, 0, 500000, 0, 10, 5406720]}, {'id': 'A08', 'data_type': {'type': 'PixelType', 'precision': 'double'}, 'dimensions': [16384, 16384], 'crs': 'EPSG:32632', 'crs_transform': [10, 0, 500000, 0, 10, 5406720]}, {'id': 'A09', 'data_type': {'type': 'PixelType', 'precision': 'double'}, 'dimensions': [16384, 16384], 'crs': 'EPSG:32632', 'crs_transform': [10, 0, 500000, 0, 10, 5406720]}, {'id': 'A10', 'data_type': {'type': 'PixelType', 'precision': 'double'}, 'dimensions': [16384, 16384], 'crs': 'EPSG:32632', 'crs_transform': [10, 0, 500000, 0, 10, 5406720]}, {'id': 'A11', 'data_type': {'type': 'PixelType', 'precision': 'double'}, 'dimensions': [16384, 16384], 'crs': 'EPSG:32632', 'crs_transform': [10, 0, 500000, 0, 10, 5406720]}, {'id': 'A12', 'data_type': {'type': 'PixelType', 'precision': 'double'}, 'dimensions': [16384, 16384], 'crs': 'EPSG:32632', 'crs_transform': [10, 0, 500000, 0, 10, 5406720]}, {'id': 'A13', 'data_type': {'type': 'PixelType', 'precision': 'double'}, 'dimensions': [16384, 16384], 'crs': 'EPSG:32632', 'crs_transform': [10, 0, 500000, 0, 10, 5406720]}, {'id': 'A14', 'data_type': {'type': 'PixelType', 'precision': 'double'}, 'dimensions': [16384, 16384], 'crs': 'EPSG:32632', 'crs_transform': [10, 0, 500000, 0, 10, 5406720]}, {'id': 'A15', 'data_type': {'type': 'PixelType', 'precision': 'double'}, 'dimensions': [16384, 16384], 'crs': 'EPSG:32632', 'crs_transform': [10, 0, 500000, 0, 10, 5406720]}, {'id': 'A16', 'data_type': {'type': 'PixelType', 'precision': 'double'}, 'dimensions': [16384, 16384], 'crs': 'EPSG:32632', 'crs_transform': [10, 0, 500000, 0, 10, 5406720]}, {'id': 'A17', 'data_type': {'type': 'PixelType', 'precision': 'double'}, 'dimensions': [16384, 16384], 'crs': 'EPSG:32632', 'crs_transform': [10, 0, 500000, 0, 10, 5406720]}, {'id': 'A18', 'data_type': {'type': 'PixelType', 'precision': 'double'}, 'dimensions': [16384, 16384], 'crs': 'EPSG:32632', 'crs_transform': [10, 0, 500000, 0, 10, 5406720]}, {'id': 'A19', 'data_type': {'type': 'PixelType', 'precision': 'double'}, 'dimensions': [16384, 16384], 'crs': 'EPSG:32632', 'crs_transform': [10, 0, 500000, 0, 10, 5406720]}, {'id': 'A20', 'data_type': {'type': 'PixelType', 'precision': 'double'}, 'dimensions': [16384, 16384], 'crs': 'EPSG:32632', 'crs_transform': [10, 0, 500000, 0, 10, 5406720]}, {'id': 'A21', 'data_type': {'type': 'PixelType', 'precision': 'double'}, 'dimensions': [16384, 16384], 'crs': 'EPSG:32632', 'crs_transform': [10, 0, 500000, 0, 10, 5406720]}, {'id': 'A22', 'data_type': {'type': 'PixelType', 'precision': 'double'}, 'dimensions': [16384, 16384], 'crs': 'EPSG:32632', 'crs_transform': [10, 0, 500000, 0, 10, 5406720]}, {'id': 'A23', 'data_type': {'type': 'PixelType', 'precision': 'double'}, 'dimensions': [16384, 16384], 'crs': 'EPSG:32632', 'crs_transform': [10, 0, 500000, 0, 10, 5406720]}, {'id': 'A24', 'data_type': {'type': 'PixelType', 'precision': 'double'}, 'dimensions': [16384, 16384], 'crs': 'EPSG:32632', 'crs_transform': [10, 0, 500000, 0, 10, 5406720]}, {'id': 'A25', 'data_type': {'type': 'PixelType', 'precision': 'double'}, 'dimensions': [16384, 16384], 'crs': 'EPSG:32632', 'crs_transform': [10, 0, 500000, 0, 10, 5406720]}, {'id': 'A26', 'data_type': {'type': 'PixelType', 'precision': 'double'}, 'dimensions': [16384, 16384], 'crs': 'EPSG:32632', 'crs_transform': [10, 0, 500000, 0, 10, 5406720]}, {'id': 'A27', 'data_type': {'type': 'PixelType', 'precision': 'double'}, 'dimensions': [16384, 16384], 'crs': 'EPSG:32632', 'crs_transform': [10, 0, 500000, 0, 10, 5406720]}, {'id': 'A28', 'data_type': {'type': 'PixelType', 'precision': 'double'}, 'dimensions': [16384, 16384], 'crs': 'EPSG:32632', 'crs_transform': [10, 0, 500000, 0, 10, 5406720]}, {'id': 'A29', 'data_type': {'type': 'PixelType', 'precision': 'double'}, 'dimensions': [16384, 16384], 'crs': 'EPSG:32632', 'crs_transform': [10, 0, 500000, 0, 10, 5406720]}, {'id': 'A30', 'data_type': {'type': 'PixelType', 'precision': 'double'}, 'dimensions': [16384, 16384], 'crs': 'EPSG:32632', 'crs_transform': [10, 0, 500000, 0, 10, 5406720]}, {'id': 'A31', 'data_type': {'type': 'PixelType', 'precision': 'double'}, 'dimensions': [16384, 16384], 'crs': 'EPSG:32632', 'crs_transform': [10, 0, 500000, 0, 10, 5406720]}, {'id': 'A32', 'data_type': {'type': 'PixelType', 'precision': 'double'}, 'dimensions': [16384, 16384], 'crs': 'EPSG:32632', 'crs_transform': [10, 0, 500000, 0, 10, 5406720]}, {'id': 'A33', 'data_type': {'type': 'PixelType', 'precision': 'double'}, 'dimensions': [16384, 16384], 'crs': 'EPSG:32632', 'crs_transform': [10, 0, 500000, 0, 10, 5406720]}, {'id': 'A34', 'data_type': {'type': 'PixelType', 'precision': 'double'}, 'dimensions': [16384, 16384], 'crs': 'EPSG:32632', 'crs_transform': [10, 0, 500000, 0, 10, 5406720]}, {'id': 'A35', 'data_type': {'type': 'PixelType', 'precision': 'double'}, 'dimensions': [16384, 16384], 'crs': 'EPSG:32632', 'crs_transform': [10, 0, 500000, 0, 10, 5406720]}, {'id': 'A36', 'data_type': {'type': 'PixelType', 'precision': 'double'}, 'dimensions': [16384, 16384], 'crs': 'EPSG:32632', 'crs_transform': [10, 0, 500000, 0, 10, 5406720]}, {'id': 'A37', 'data_type': {'type': 'PixelType', 'precision': 'double'}, 'dimensions': [16384, 16384], 'crs': 'EPSG:32632', 'crs_transform': [10, 0, 500000, 0, 10, 5406720]}, {'id': 'A38', 'data_type': {'type': 'PixelType', 'precision': 'double'}, 'dimensions': [16384, 16384], 'crs': 'EPSG:32632', 'crs_transform': [10, 0, 500000, 0, 10, 5406720]}, {'id': 'A39', 'data_type': {'type': 'PixelType', 'precision': 'double'}, 'dimensions': [16384, 16384], 'crs': 'EPSG:32632', 'crs_transform': [10, 0, 500000, 0, 10, 5406720]}, {'id': 'A40', 'data_type': {'type': 'PixelType', 'precision': 'double'}, 'dimensions': [16384, 16384], 'crs': 'EPSG:32632', 'crs_transform': [10, 0, 500000, 0, 10, 5406720]}, {'id': 'A41', 'data_type': {'type': 'PixelType', 'precision': 'double'}, 'dimensions': [16384, 16384], 'crs': 'EPSG:32632', 'crs_transform': [10, 0, 500000, 0, 10, 5406720]}, {'id': 'A42', 'data_type': {'type': 'PixelType', 'precision': 'double'}, 'dimensions': [16384, 16384], 'crs': 'EPSG:32632', 'crs_transform': [10, 0, 500000, 0, 10, 5406720]}, {'id': 'A43', 'data_type': {'type': 'PixelType', 'precision': 'double'}, 'dimensions': [16384, 16384], 'crs': 'EPSG:32632', 'crs_transform': [10, 0, 500000, 0, 10, 5406720]}, {'id': 'A44', 'data_type': {'type': 'PixelType', 'precision': 'double'}, 'dimensions': [16384, 16384], 'crs': 'EPSG:32632', 'crs_transform': [10, 0, 500000, 0, 10, 5406720]}, {'id': 'A45', 'data_type': {'type': 'PixelType', 'precision': 'double'}, 'dimensions': [16384, 16384], 'crs': 'EPSG:32632', 'crs_transform': [10, 0, 500000, 0, 10, 5406720]}, {'id': 'A46', 'data_type': {'type': 'PixelType', 'precision': 'double'}, 'dimensions': [16384, 16384], 'crs': 'EPSG:32632', 'crs_transform': [10, 0, 500000, 0, 10, 5406720]}, {'id': 'A47', 'data_type': {'type': 'PixelType', 'precision': 'double'}, 'dimensions': [16384, 16384], 'crs': 'EPSG:32632', 'crs_transform': [10, 0, 500000, 0, 10, 5406720]}, {'id': 'A48', 'data_type': {'type': 'PixelType', 'precision': 'double'}, 'dimensions': [16384, 16384], 'crs': 'EPSG:32632', 'crs_transform': [10, 0, 500000, 0, 10, 5406720]}, {'id': 'A49', 'data_type': {'type': 'PixelType', 'precision': 'double'}, 'dimensions': [16384, 16384], 'crs': 'EPSG:32632', 'crs_transform': [10, 0, 500000, 0, 10, 5406720]}, {'id': 'A50', 'data_type': {'type': 'PixelType', 'precision': 'double'}, 'dimensions': [16384, 16384], 'crs': 'EPSG:32632', 'crs_transform': [10, 0, 500000, 0, 10, 5406720]}, {'id': 'A51', 'data_type': {'type': 'PixelType', 'precision': 'double'}, 'dimensions': [16384, 16384], 'crs': 'EPSG:32632', 'crs_transform': [10, 0, 500000, 0, 10, 5406720]}, {'id': 'A52', 'data_type': {'type': 'PixelType', 'precision': 'double'}, 'dimensions': [16384, 16384], 'crs': 'EPSG:32632', 'crs_transform': [10, 0, 500000, 0, 10, 5406720]}, {'id': 'A53', 'data_type': {'type': 'PixelType', 'precision': 'double'}, 'dimensions': [16384, 16384], 'crs': 'EPSG:32632', 'crs_transform': [10, 0, 500000, 0, 10, 5406720]}, {'id': 'A54', 'data_type': {'type': 'PixelType', 'precision': 'double'}, 'dimensions': [16384, 16384], 'crs': 'EPSG:32632', 'crs_transform': [10, 0, 500000, 0, 10, 5406720]}, {'id': 'A55', 'data_type': {'type': 'PixelType', 'precision': 'double'}, 'dimensions': [16384, 16384], 'crs': 'EPSG:32632', 'crs_transform': [10, 0, 500000, 0, 10, 5406720]}, {'id': 'A56', 'data_type': {'type': 'PixelType', 'precision': 'double'}, 'dimensions': [16384, 16384], 'crs': 'EPSG:32632', 'crs_transform': [10, 0, 500000, 0, 10, 5406720]}, {'id': 'A57', 'data_type': {'type': 'PixelType', 'precision': 'double'}, 'dimensions': [16384, 16384], 'crs': 'EPSG:32632', 'crs_transform': [10, 0, 500000, 0, 10, 5406720]}, {'id': 'A58', 'data_type': {'type': 'PixelType', 'precision': 'double'}, 'dimensions': [16384, 16384], 'crs': 'EPSG:32632', 'crs_transform': [10, 0, 500000, 0, 10, 5406720]}, {'id': 'A59', 'data_type': {'type': 'PixelType', 'precision': 'double'}, 'dimensions': [16384, 16384], 'crs': 'EPSG:32632', 'crs_transform': [10, 0, 500000, 0, 10, 5406720]}, {'id': 'A60', 'data_type': {'type': 'PixelType', 'precision': 'double'}, 'dimensions': [16384, 16384], 'crs': 'EPSG:32632', 'crs_transform': [10, 0, 500000, 0, 10, 5406720]}, {'id': 'A61', 'data_type': {'type': 'PixelType', 'precision': 'double'}, 'dimensions': [16384, 16384], 'crs': 'EPSG:32632', 'crs_transform': [10, 0, 500000, 0, 10, 5406720]}, {'id': 'A62', 'data_type': {'type': 'PixelType', 'precision': 'double'}, 'dimensions': [16384, 16384], 'crs': 'EPSG:32632', 'crs_transform': [10, 0, 500000, 0, 10, 5406720]}, {'id': 'A63', 'data_type': {'type': 'PixelType', 'precision': 'double'}, 'dimensions': [16384, 16384], 'crs': 'EPSG:32632', 'crs_transform': [10, 0, 500000, 0, 10, 5406720]}], 'version': 1751567047349215, 'id': 'GOOGLE/SATELLITE_EMBEDDING/V1/ANNUAL/x5iml300mxxdc3ae0', 'properties': {'system:time_end': 1735689600000, 'system:index': 'x5iml300mxxdc3ae0', 'system:time_start': 1704067200000, 'PROCESSING_SOFTWARE_VERSION': '1.01', 'UTM_ZONE': '32N', 'MODEL_VERSION': '2.1', 'DATASET_VERSION': '1.0'}}\n"
          ]
        },
        {
          "output_type": "display_data",
          "data": {
            "text/plain": [
              "<folium.folium.Map at 0x7971649cde10>"
            ],
            "text/html": [
              "<div style=\"width:100%;\"><div style=\"position:relative;width:100%;height:0;padding-bottom:60%;\"><span style=\"color:#565656\">Make this Notebook Trusted to load map: File -> Trust Notebook</span><iframe srcdoc=\"&lt;!DOCTYPE html&gt;\n",
              "&lt;html&gt;\n",
              "&lt;head&gt;\n",
              "    \n",
              "    &lt;meta http-equiv=&quot;content-type&quot; content=&quot;text/html; charset=UTF-8&quot; /&gt;\n",
              "    &lt;script src=&quot;https://cdn.jsdelivr.net/npm/leaflet@1.9.3/dist/leaflet.js&quot;&gt;&lt;/script&gt;\n",
              "    &lt;script src=&quot;https://code.jquery.com/jquery-3.7.1.min.js&quot;&gt;&lt;/script&gt;\n",
              "    &lt;script src=&quot;https://cdn.jsdelivr.net/npm/bootstrap@5.2.2/dist/js/bootstrap.bundle.min.js&quot;&gt;&lt;/script&gt;\n",
              "    &lt;script src=&quot;https://cdnjs.cloudflare.com/ajax/libs/Leaflet.awesome-markers/2.0.2/leaflet.awesome-markers.js&quot;&gt;&lt;/script&gt;\n",
              "    &lt;link rel=&quot;stylesheet&quot; href=&quot;https://cdn.jsdelivr.net/npm/leaflet@1.9.3/dist/leaflet.css&quot;/&gt;\n",
              "    &lt;link rel=&quot;stylesheet&quot; href=&quot;https://cdn.jsdelivr.net/npm/bootstrap@5.2.2/dist/css/bootstrap.min.css&quot;/&gt;\n",
              "    &lt;link rel=&quot;stylesheet&quot; href=&quot;https://netdna.bootstrapcdn.com/bootstrap/3.0.0/css/bootstrap-glyphicons.css&quot;/&gt;\n",
              "    &lt;link rel=&quot;stylesheet&quot; href=&quot;https://cdn.jsdelivr.net/npm/@fortawesome/fontawesome-free@6.2.0/css/all.min.css&quot;/&gt;\n",
              "    &lt;link rel=&quot;stylesheet&quot; href=&quot;https://cdnjs.cloudflare.com/ajax/libs/Leaflet.awesome-markers/2.0.2/leaflet.awesome-markers.css&quot;/&gt;\n",
              "    &lt;link rel=&quot;stylesheet&quot; href=&quot;https://cdn.jsdelivr.net/gh/python-visualization/folium/folium/templates/leaflet.awesome.rotate.min.css&quot;/&gt;\n",
              "    \n",
              "            &lt;meta name=&quot;viewport&quot; content=&quot;width=device-width,\n",
              "                initial-scale=1.0, maximum-scale=1.0, user-scalable=no&quot; /&gt;\n",
              "            &lt;style&gt;\n",
              "                #map_fffccf9ec8b04e87065ed3f34598b0b2 {\n",
              "                    position: relative;\n",
              "                    width: 100.0%;\n",
              "                    height: 100.0%;\n",
              "                    left: 0.0%;\n",
              "                    top: 0.0%;\n",
              "                }\n",
              "                .leaflet-container { font-size: 1rem; }\n",
              "            &lt;/style&gt;\n",
              "\n",
              "            &lt;style&gt;html, body {\n",
              "                width: 100%;\n",
              "                height: 100%;\n",
              "                margin: 0;\n",
              "                padding: 0;\n",
              "            }\n",
              "            &lt;/style&gt;\n",
              "\n",
              "            &lt;style&gt;#map {\n",
              "                position:absolute;\n",
              "                top:0;\n",
              "                bottom:0;\n",
              "                right:0;\n",
              "                left:0;\n",
              "                }\n",
              "            &lt;/style&gt;\n",
              "\n",
              "            &lt;script&gt;\n",
              "                L_NO_TOUCH = false;\n",
              "                L_DISABLE_3D = false;\n",
              "            &lt;/script&gt;\n",
              "\n",
              "        \n",
              "&lt;/head&gt;\n",
              "&lt;body&gt;\n",
              "    \n",
              "    \n",
              "            &lt;div class=&quot;folium-map&quot; id=&quot;map_fffccf9ec8b04e87065ed3f34598b0b2&quot; &gt;&lt;/div&gt;\n",
              "        \n",
              "&lt;/body&gt;\n",
              "&lt;script&gt;\n",
              "    \n",
              "    \n",
              "            var map_fffccf9ec8b04e87065ed3f34598b0b2 = L.map(\n",
              "                &quot;map_fffccf9ec8b04e87065ed3f34598b0b2&quot;,\n",
              "                {\n",
              "                    center: [49.4542, 11.0784],\n",
              "                    crs: L.CRS.EPSG3857,\n",
              "                    ...{\n",
              "  &quot;zoom&quot;: 12,\n",
              "  &quot;zoomControl&quot;: true,\n",
              "  &quot;preferCanvas&quot;: false,\n",
              "}\n",
              "\n",
              "                }\n",
              "            );\n",
              "\n",
              "            \n",
              "\n",
              "        \n",
              "    \n",
              "            var tile_layer_69e6b6cafe1ac1b8582137920fca9fb1 = L.tileLayer(\n",
              "                &quot;https://tile.openstreetmap.org/{z}/{x}/{y}.png&quot;,\n",
              "                {\n",
              "  &quot;minZoom&quot;: 0,\n",
              "  &quot;maxZoom&quot;: 19,\n",
              "  &quot;maxNativeZoom&quot;: 19,\n",
              "  &quot;noWrap&quot;: false,\n",
              "  &quot;attribution&quot;: &quot;\\u0026copy; \\u003ca href=\\&quot;https://www.openstreetmap.org/copyright\\&quot;\\u003eOpenStreetMap\\u003c/a\\u003e contributors&quot;,\n",
              "  &quot;subdomains&quot;: &quot;abc&quot;,\n",
              "  &quot;detectRetina&quot;: false,\n",
              "  &quot;tms&quot;: false,\n",
              "  &quot;opacity&quot;: 1,\n",
              "}\n",
              "\n",
              "            );\n",
              "        \n",
              "    \n",
              "            tile_layer_69e6b6cafe1ac1b8582137920fca9fb1.addTo(map_fffccf9ec8b04e87065ed3f34598b0b2);\n",
              "        \n",
              "    \n",
              "            var tile_layer_903558cd93bc52d152863f395b549d14 = L.tileLayer(\n",
              "                &quot;https://earthengine.googleapis.com/v1/projects/forest-loss-monitoring/maps/8b9182f162dee75d70e30cb111e4cc67-61623efb2f1936702bf548edc3882b3c/tiles/{z}/{x}/{y}&quot;,\n",
              "                {\n",
              "  &quot;minZoom&quot;: 0,\n",
              "  &quot;maxZoom&quot;: 18,\n",
              "  &quot;maxNativeZoom&quot;: 18,\n",
              "  &quot;noWrap&quot;: false,\n",
              "  &quot;attribution&quot;: &quot;Map Data \\u0026copy; \\u003ca href=\\&quot;https://earthengine.google.com/\\&quot;\\u003eGoogle Earth Engine\\u003c/a\\u003e&quot;,\n",
              "  &quot;subdomains&quot;: &quot;abc&quot;,\n",
              "  &quot;detectRetina&quot;: false,\n",
              "  &quot;tms&quot;: false,\n",
              "  &quot;opacity&quot;: 1,\n",
              "}\n",
              "\n",
              "            );\n",
              "        \n",
              "    \n",
              "            tile_layer_903558cd93bc52d152863f395b549d14.addTo(map_fffccf9ec8b04e87065ed3f34598b0b2);\n",
              "        \n",
              "    \n",
              "            var layer_control_ab7926f4b82448609ed2977301cd145c_layers = {\n",
              "                base_layers : {\n",
              "                    &quot;openstreetmap&quot; : tile_layer_69e6b6cafe1ac1b8582137920fca9fb1,\n",
              "                },\n",
              "                overlays :  {\n",
              "                    &quot;Satellite Embedding&quot; : tile_layer_903558cd93bc52d152863f395b549d14,\n",
              "                },\n",
              "            };\n",
              "            let layer_control_ab7926f4b82448609ed2977301cd145c = L.control.layers(\n",
              "                layer_control_ab7926f4b82448609ed2977301cd145c_layers.base_layers,\n",
              "                layer_control_ab7926f4b82448609ed2977301cd145c_layers.overlays,\n",
              "                {\n",
              "  &quot;position&quot;: &quot;topright&quot;,\n",
              "  &quot;collapsed&quot;: true,\n",
              "  &quot;autoZIndex&quot;: true,\n",
              "}\n",
              "            ).addTo(map_fffccf9ec8b04e87065ed3f34598b0b2);\n",
              "\n",
              "        \n",
              "&lt;/script&gt;\n",
              "&lt;/html&gt;\" style=\"position:absolute;width:100%;height:100%;left:0;top:0;border:none !important;\" allowfullscreen webkitallowfullscreen mozallowfullscreen></iframe></div></div>"
            ]
          },
          "metadata": {}
        }
      ]
    },
    {
      "cell_type": "markdown",
      "metadata": {
        "id": "87f4843c"
      },
      "source": [
        "### Inspect Band Values for Visualization\n",
        "\n",
        "**Reasoning**:\n",
        "Calculate and print the minimum and maximum values for the 'A00', 'A01', and 'A02' bands within the area of interest to determine appropriate visualization parameters."
      ]
    }
  ]
}