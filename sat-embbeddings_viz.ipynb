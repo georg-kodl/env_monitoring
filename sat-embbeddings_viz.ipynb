{
  "nbformat": 4,
  "nbformat_minor": 0,
  "metadata": {
    "colab": {
      "name": "Detecting Changes in Sentinel-1 Imagery (Part 1)",
      "provenance": [],
      "toc_visible": true
    },
    "kernelspec": {
      "name": "python3",
      "display_name": "Python 3"
    }
  },
  "cells": [
    {
      "cell_type": "code",
      "source": [
        "import ee\n",
        "\n",
        "# Trigger the authentication flow.\n",
        "ee.Authenticate()\n",
        "\n",
        "# Initialize the library.\n",
        "ee.Initialize(project='forest-loss-monitoring')"
      ],
      "metadata": {
        "id": "uytEQBn6BNTp"
      },
      "execution_count": 9,
      "outputs": []
    },
    {
      "cell_type": "markdown",
      "metadata": {
        "id": "61defde3"
      },
      "source": [
        "# Task\n",
        "Generate Python code to visualize the most recent Sentinel-1 VH and VV polarization data for Nuremberg Castle, Germany, step-by-step and concisely."
      ]
    },
    {
      "cell_type": "markdown",
      "metadata": {
        "id": "69eb782c"
      },
      "source": [
        "## Define the area of interest (aoi)\n",
        "\n",
        "### Subtask:\n",
        "Create a polygon or bounding box around Nuremberg Castle.\n"
      ]
    },
    {
      "cell_type": "markdown",
      "metadata": {
        "id": "2f57ce7f"
      },
      "source": [
        "**Reasoning**:\n",
        "Import the necessary library and define the area of interest around Nuremberg Castle using a bounding box.\n",
        "\n"
      ]
    },
    {
      "cell_type": "code",
      "metadata": {
        "id": "1f25fcfd"
      },
      "source": [
        "from shapely.geometry import box\n",
        "\n",
        "# Approximate coordinates for Nuremberg Castle\n",
        "#latitude = 49.4542\n",
        "#longitude = 11.0784\n",
        "\n",
        "# Iceland location (66°08'21.8\"N 15°29'45.7\"W)\n",
        "latitude = 66.139389\n",
        "longitude = -15.496028\n",
        "\n",
        "# Define a bounding box around the castle\n",
        "# Using a small buffer around the coordinates\n",
        "buffer = 0.1  # degrees\n",
        "\n",
        "min_lon = longitude - buffer\n",
        "min_lat = latitude - buffer\n",
        "max_lon = longitude + buffer\n",
        "max_lat = latitude + buffer\n",
        "\n",
        "aoi = box(min_lon, min_lat, max_lon, max_lat)"
      ],
      "execution_count": 10,
      "outputs": []
    },
    {
      "cell_type": "markdown",
      "metadata": {
        "id": "ed121a19"
      },
      "source": [
        "## Search for sentinel-1 data\n",
        "\n",
        "### Subtask:\n",
        "Use the AOI and date range to find the most recent Sentinel-1 images with VH and VV polarization.\n"
      ]
    },
    {
      "cell_type": "markdown",
      "metadata": {
        "id": "ce97b9af"
      },
      "source": [
        "**Reasoning**:\n",
        "Import necessary libraries and define the time range, instance ID, and create the SentinelHubRequest object including data collection, download task, evalscript task, and maxcc parameter.\n",
        "\n"
      ]
    },
    {
      "cell_type": "markdown",
      "metadata": {
        "id": "edad9ec6"
      },
      "source": [
        "### Search for Sentinel-1 data\n",
        "\n",
        "**Reasoning**:\n",
        "Filter the Sentinel-1 collection by date, area of interest, and polarization. Then, select the most recent image."
      ]
    },
    {
      "cell_type": "code",
      "metadata": {
        "id": "e7d2b289"
      },
      "source": [
        "# Define the date range for the most recent data\n",
        "from datetime import date, timedelta\n",
        "\n",
        "end_date = date.today().strftime('%Y-%m-%d')\n",
        "start_date = (date.today() - timedelta(days=30)).strftime('%Y-%m-%d') # Search in the last 30 days\n",
        "\n",
        "# Convert the shapely AOI to Earth Engine geometry\n",
        "ee_aoi = ee.Geometry.Polygon(list(aoi.exterior.coords))\n",
        "\n",
        "# Load the Sentinel-1 collection\n",
        "sentinel1 = ee.ImageCollection('COPERNICUS/S1_GRD')\n",
        "\n",
        "# Filter the collection\n",
        "filtered_collection = sentinel1.filterDate(start_date, end_date) \\\n",
        "                               .filterBounds(ee_aoi) \\\n",
        "                               .filter(ee.Filter.listContains('transmitterReceiverPolarisation', 'VH')) \\\n",
        "                               .filter(ee.Filter.listContains('transmitterReceiverPolarisation', 'VV')) \\\n",
        "                               .filter(ee.Filter.eq('instrumentMode', 'IW')) # Interferometric Wide Swath\n",
        "\n",
        "# Select the most recent image\n",
        "# most_recent_image = filtered_collection.sort('system:time_start', False).first()\n",
        "\n",
        "# Mosaic the filtered collection to stitch images together\n",
        "stitched_image = filtered_collection.mosaic()\n",
        "\n",
        "\n",
        "# Display the most recent image information\n",
        "# print(\"Most recent image acquisition date:\", most_recent_image.get('system:time_start').getInfo())"
      ],
      "execution_count": 11,
      "outputs": []
    },
    {
      "cell_type": "code",
      "source": [
        "import ee\n",
        "import folium\n",
        "import geemap\n",
        "import numpy as np\n",
        "from datetime import datetime, timedelta"
      ],
      "metadata": {
        "id": "2bd3YrSJfsRK"
      },
      "execution_count": 16,
      "outputs": []
    },
    {
      "cell_type": "code",
      "source": [
        "# Select the VH and VV bands\n",
        "vh_band = stitched_image.select('VH')\n",
        "vv_band = stitched_image.select('VV')\n",
        "\n",
        "# Define visualization parameters\n",
        "vh_vis_params = {'min': -25, 'max': 0, 'palette': ['black', 'white']}\n",
        "vv_vis_params = {'min': -25, 'max': 0, 'palette': ['black', 'white']}\n",
        "\n",
        "# Create a Folium map\n",
        "center_lat = (min_lat + max_lat) / 2\n",
        "center_lon = (min_lon + max_lon) / 2\n",
        "my_map = folium.Map(location=[center_lat, center_lon], zoom_start=12)\n",
        "\n",
        "# Add EE layers using getMapId\n",
        "vh_map_id = vh_band.getMapId(vh_vis_params)\n",
        "vv_map_id = vv_band.getMapId(vv_vis_params)\n",
        "\n",
        "folium.raster_layers.TileLayer(\n",
        "    tiles=vh_map_id['tile_fetcher'].url_format,\n",
        "    attr='Google Earth Engine',\n",
        "    name='Sentinel-1 VH',\n",
        "    overlay=True,\n",
        "    control=True\n",
        ").add_to(my_map)\n",
        "\n",
        "folium.raster_layers.TileLayer(\n",
        "    tiles=vv_map_id['tile_fetcher'].url_format,\n",
        "    attr='Google Earth Engine',\n",
        "    name='Sentinel-1 VV',\n",
        "    overlay=True,\n",
        "    control=True\n",
        ").add_to(my_map)\n",
        "\n",
        "# Add layer control\n",
        "folium.LayerControl().add_to(my_map)\n",
        "\n",
        "# Display the map\n",
        "my_map"
      ],
      "metadata": {
        "id": "GzC9khQzgY1v",
        "outputId": "0115c1e6-0d85-4cab-ce65-b84883b3fae6",
        "colab": {
          "base_uri": "https://localhost:8080/",
          "height": 768
        }
      },
      "execution_count": 18,
      "outputs": [
        {
          "output_type": "display_data",
          "data": {
            "text/plain": [
              "<IPython.core.display.HTML object>"
            ],
            "text/html": [
              "\n",
              "            <style>\n",
              "                .geemap-dark {\n",
              "                    --jp-widgets-color: white;\n",
              "                    --jp-widgets-label-color: white;\n",
              "                    --jp-ui-font-color1: white;\n",
              "                    --jp-layout-color2: #454545;\n",
              "                    background-color: #383838;\n",
              "                }\n",
              "\n",
              "                .geemap-dark .jupyter-button {\n",
              "                    --jp-layout-color3: #383838;\n",
              "                }\n",
              "\n",
              "                .geemap-colab {\n",
              "                    background-color: var(--colab-primary-surface-color, white);\n",
              "                }\n",
              "\n",
              "                .geemap-colab .jupyter-button {\n",
              "                    --jp-layout-color3: var(--colab-primary-surface-color, white);\n",
              "                }\n",
              "            </style>\n",
              "            "
            ]
          },
          "metadata": {}
        },
        {
          "output_type": "execute_result",
          "data": {
            "text/plain": [
              "<folium.folium.Map at 0x7f8f6a94b7d0>"
            ],
            "text/html": [
              "<div style=\"width:100%;\"><div style=\"position:relative;width:100%;height:0;padding-bottom:60%;\"><span style=\"color:#565656\">Make this Notebook Trusted to load map: File -> Trust Notebook</span><iframe srcdoc=\"&lt;!DOCTYPE html&gt;\n",
              "&lt;html&gt;\n",
              "&lt;head&gt;\n",
              "    \n",
              "    &lt;meta http-equiv=&quot;content-type&quot; content=&quot;text/html; charset=UTF-8&quot; /&gt;\n",
              "    &lt;script src=&quot;https://cdn.jsdelivr.net/npm/leaflet@1.9.3/dist/leaflet.js&quot;&gt;&lt;/script&gt;\n",
              "    &lt;script src=&quot;https://code.jquery.com/jquery-3.7.1.min.js&quot;&gt;&lt;/script&gt;\n",
              "    &lt;script src=&quot;https://cdn.jsdelivr.net/npm/bootstrap@5.2.2/dist/js/bootstrap.bundle.min.js&quot;&gt;&lt;/script&gt;\n",
              "    &lt;script src=&quot;https://cdnjs.cloudflare.com/ajax/libs/Leaflet.awesome-markers/2.0.2/leaflet.awesome-markers.js&quot;&gt;&lt;/script&gt;\n",
              "    &lt;link rel=&quot;stylesheet&quot; href=&quot;https://cdn.jsdelivr.net/npm/leaflet@1.9.3/dist/leaflet.css&quot;/&gt;\n",
              "    &lt;link rel=&quot;stylesheet&quot; href=&quot;https://cdn.jsdelivr.net/npm/bootstrap@5.2.2/dist/css/bootstrap.min.css&quot;/&gt;\n",
              "    &lt;link rel=&quot;stylesheet&quot; href=&quot;https://netdna.bootstrapcdn.com/bootstrap/3.0.0/css/bootstrap-glyphicons.css&quot;/&gt;\n",
              "    &lt;link rel=&quot;stylesheet&quot; href=&quot;https://cdn.jsdelivr.net/npm/@fortawesome/fontawesome-free@6.2.0/css/all.min.css&quot;/&gt;\n",
              "    &lt;link rel=&quot;stylesheet&quot; href=&quot;https://cdnjs.cloudflare.com/ajax/libs/Leaflet.awesome-markers/2.0.2/leaflet.awesome-markers.css&quot;/&gt;\n",
              "    &lt;link rel=&quot;stylesheet&quot; href=&quot;https://cdn.jsdelivr.net/gh/python-visualization/folium/folium/templates/leaflet.awesome.rotate.min.css&quot;/&gt;\n",
              "    \n",
              "            &lt;meta name=&quot;viewport&quot; content=&quot;width=device-width,\n",
              "                initial-scale=1.0, maximum-scale=1.0, user-scalable=no&quot; /&gt;\n",
              "            &lt;style&gt;\n",
              "                #map_8d130ee1bb34c5f7622c31f445fc2789 {\n",
              "                    position: relative;\n",
              "                    width: 100.0%;\n",
              "                    height: 100.0%;\n",
              "                    left: 0.0%;\n",
              "                    top: 0.0%;\n",
              "                }\n",
              "                .leaflet-container { font-size: 1rem; }\n",
              "            &lt;/style&gt;\n",
              "\n",
              "            &lt;style&gt;html, body {\n",
              "                width: 100%;\n",
              "                height: 100%;\n",
              "                margin: 0;\n",
              "                padding: 0;\n",
              "            }\n",
              "            &lt;/style&gt;\n",
              "\n",
              "            &lt;style&gt;#map {\n",
              "                position:absolute;\n",
              "                top:0;\n",
              "                bottom:0;\n",
              "                right:0;\n",
              "                left:0;\n",
              "                }\n",
              "            &lt;/style&gt;\n",
              "\n",
              "            &lt;script&gt;\n",
              "                L_NO_TOUCH = false;\n",
              "                L_DISABLE_3D = false;\n",
              "            &lt;/script&gt;\n",
              "\n",
              "        \n",
              "&lt;/head&gt;\n",
              "&lt;body&gt;\n",
              "    \n",
              "    \n",
              "            &lt;div class=&quot;folium-map&quot; id=&quot;map_8d130ee1bb34c5f7622c31f445fc2789&quot; &gt;&lt;/div&gt;\n",
              "        \n",
              "&lt;/body&gt;\n",
              "&lt;script&gt;\n",
              "    \n",
              "    \n",
              "            var map_8d130ee1bb34c5f7622c31f445fc2789 = L.map(\n",
              "                &quot;map_8d130ee1bb34c5f7622c31f445fc2789&quot;,\n",
              "                {\n",
              "                    center: [66.139389, -15.496028],\n",
              "                    crs: L.CRS.EPSG3857,\n",
              "                    ...{\n",
              "  &quot;zoom&quot;: 12,\n",
              "  &quot;zoomControl&quot;: true,\n",
              "  &quot;preferCanvas&quot;: false,\n",
              "}\n",
              "\n",
              "                }\n",
              "            );\n",
              "\n",
              "            \n",
              "\n",
              "        \n",
              "    \n",
              "            var tile_layer_b980400cf82de355a6c307dbd4a39539 = L.tileLayer(\n",
              "                &quot;https://tile.openstreetmap.org/{z}/{x}/{y}.png&quot;,\n",
              "                {\n",
              "  &quot;minZoom&quot;: 0,\n",
              "  &quot;maxZoom&quot;: 19,\n",
              "  &quot;maxNativeZoom&quot;: 19,\n",
              "  &quot;noWrap&quot;: false,\n",
              "  &quot;attribution&quot;: &quot;\\u0026copy; \\u003ca href=\\&quot;https://www.openstreetmap.org/copyright\\&quot;\\u003eOpenStreetMap\\u003c/a\\u003e contributors&quot;,\n",
              "  &quot;subdomains&quot;: &quot;abc&quot;,\n",
              "  &quot;detectRetina&quot;: false,\n",
              "  &quot;tms&quot;: false,\n",
              "  &quot;opacity&quot;: 1,\n",
              "}\n",
              "\n",
              "            );\n",
              "        \n",
              "    \n",
              "            tile_layer_b980400cf82de355a6c307dbd4a39539.addTo(map_8d130ee1bb34c5f7622c31f445fc2789);\n",
              "        \n",
              "    \n",
              "            var tile_layer_b91c5a6904861f2e7868e1a4ee6c72ad = L.tileLayer(\n",
              "                &quot;https://earthengine.googleapis.com/v1/projects/forest-loss-monitoring/maps/2ca24a943c8bd405d3ebc70a0d04934b-201f4fedfbd42f6d383e9fd22170f914/tiles/{z}/{x}/{y}&quot;,\n",
              "                {\n",
              "  &quot;minZoom&quot;: 0,\n",
              "  &quot;maxZoom&quot;: 18,\n",
              "  &quot;maxNativeZoom&quot;: 18,\n",
              "  &quot;noWrap&quot;: false,\n",
              "  &quot;attribution&quot;: &quot;Google Earth Engine&quot;,\n",
              "  &quot;subdomains&quot;: &quot;abc&quot;,\n",
              "  &quot;detectRetina&quot;: false,\n",
              "  &quot;tms&quot;: false,\n",
              "  &quot;opacity&quot;: 1,\n",
              "}\n",
              "\n",
              "            );\n",
              "        \n",
              "    \n",
              "            tile_layer_b91c5a6904861f2e7868e1a4ee6c72ad.addTo(map_8d130ee1bb34c5f7622c31f445fc2789);\n",
              "        \n",
              "    \n",
              "            var tile_layer_e55cc5bb89216149df9c39f0cdd9c397 = L.tileLayer(\n",
              "                &quot;https://earthengine.googleapis.com/v1/projects/forest-loss-monitoring/maps/8d310b7983ee5d01f44463908f0709e1-0e8b1dd91ba4c53e6dc22b11607c9add/tiles/{z}/{x}/{y}&quot;,\n",
              "                {\n",
              "  &quot;minZoom&quot;: 0,\n",
              "  &quot;maxZoom&quot;: 18,\n",
              "  &quot;maxNativeZoom&quot;: 18,\n",
              "  &quot;noWrap&quot;: false,\n",
              "  &quot;attribution&quot;: &quot;Google Earth Engine&quot;,\n",
              "  &quot;subdomains&quot;: &quot;abc&quot;,\n",
              "  &quot;detectRetina&quot;: false,\n",
              "  &quot;tms&quot;: false,\n",
              "  &quot;opacity&quot;: 1,\n",
              "}\n",
              "\n",
              "            );\n",
              "        \n",
              "    \n",
              "            tile_layer_e55cc5bb89216149df9c39f0cdd9c397.addTo(map_8d130ee1bb34c5f7622c31f445fc2789);\n",
              "        \n",
              "    \n",
              "            var layer_control_7eeead3e8f7244726c1d238bbaaa95dd_layers = {\n",
              "                base_layers : {\n",
              "                    &quot;openstreetmap&quot; : tile_layer_b980400cf82de355a6c307dbd4a39539,\n",
              "                },\n",
              "                overlays :  {\n",
              "                    &quot;Sentinel-1 VH&quot; : tile_layer_b91c5a6904861f2e7868e1a4ee6c72ad,\n",
              "                    &quot;Sentinel-1 VV&quot; : tile_layer_e55cc5bb89216149df9c39f0cdd9c397,\n",
              "                },\n",
              "            };\n",
              "            let layer_control_7eeead3e8f7244726c1d238bbaaa95dd = L.control.layers(\n",
              "                layer_control_7eeead3e8f7244726c1d238bbaaa95dd_layers.base_layers,\n",
              "                layer_control_7eeead3e8f7244726c1d238bbaaa95dd_layers.overlays,\n",
              "                {\n",
              "  &quot;position&quot;: &quot;topright&quot;,\n",
              "  &quot;collapsed&quot;: true,\n",
              "  &quot;autoZIndex&quot;: true,\n",
              "}\n",
              "            ).addTo(map_8d130ee1bb34c5f7622c31f445fc2789);\n",
              "\n",
              "        \n",
              "&lt;/script&gt;\n",
              "&lt;/html&gt;\" style=\"position:absolute;width:100%;height:100%;left:0;top:0;border:none !important;\" allowfullscreen webkitallowfullscreen mozallowfullscreen></iframe></div></div>"
            ]
          },
          "metadata": {},
          "execution_count": 18
        }
      ]
    },
    {
      "cell_type": "code",
      "source": [
        "# Select the VH and VV bands\n",
        "vh_band = stitched_image.select('VH')\n",
        "vv_band = stitched_image.select('VV')\n",
        "\n",
        "# Define visualization parameters for the bands\n",
        "vh_vis_params = {'min': -25, 'max': 0}\n",
        "vv_vis_params = {'min': -25, 'max': 0}\n",
        "\n",
        "# Create a Folium map centered on the AOI\n",
        "center_lat = (min_lat + max_lat) / 2\n",
        "center_lon = (min_lon + max_lon) / 2\n",
        "my_map = folium.Map(location=[center_lat, center_lon], zoom_start=12) # Reduced zoom for wider view\n",
        "\n",
        "# Add the VH and VV layers to the map\n",
        "my_map.add_ee_layer(vh_band, vh_vis_params, 'Sentinel-1 VH')\n",
        "my_map.add_ee_layer(vv_band, vv_vis_params, 'Sentinel-1 VV')\n",
        "\n",
        "# Add a layer control panel to the map\n",
        "my_map.add_child(folium.LayerControl())\n",
        "\n",
        "# Display the map\n",
        "display(my_map)"
      ],
      "metadata": {
        "colab": {
          "base_uri": "https://localhost:8080/",
          "height": 211
        },
        "id": "4el7AYFXLWoq",
        "outputId": "aa4d0cea-e283-4086-b27f-fa3722de0291"
      },
      "execution_count": 17,
      "outputs": [
        {
          "output_type": "display_data",
          "data": {
            "text/plain": [
              "<IPython.core.display.HTML object>"
            ],
            "text/html": [
              "\n",
              "            <style>\n",
              "                .geemap-dark {\n",
              "                    --jp-widgets-color: white;\n",
              "                    --jp-widgets-label-color: white;\n",
              "                    --jp-ui-font-color1: white;\n",
              "                    --jp-layout-color2: #454545;\n",
              "                    background-color: #383838;\n",
              "                }\n",
              "\n",
              "                .geemap-dark .jupyter-button {\n",
              "                    --jp-layout-color3: #383838;\n",
              "                }\n",
              "\n",
              "                .geemap-colab {\n",
              "                    background-color: var(--colab-primary-surface-color, white);\n",
              "                }\n",
              "\n",
              "                .geemap-colab .jupyter-button {\n",
              "                    --jp-layout-color3: var(--colab-primary-surface-color, white);\n",
              "                }\n",
              "            </style>\n",
              "            "
            ]
          },
          "metadata": {}
        },
        {
          "output_type": "error",
          "ename": "AttributeError",
          "evalue": "'Map' object has no attribute 'add_ee_layer'",
          "traceback": [
            "\u001b[0;31m---------------------------------------------------------------------------\u001b[0m",
            "\u001b[0;31mAttributeError\u001b[0m                            Traceback (most recent call last)",
            "\u001b[0;32m/tmp/ipython-input-2707678163.py\u001b[0m in \u001b[0;36m<cell line: 0>\u001b[0;34m()\u001b[0m\n\u001b[1;32m     13\u001b[0m \u001b[0;34m\u001b[0m\u001b[0m\n\u001b[1;32m     14\u001b[0m \u001b[0;31m# Add the VH and VV layers to the map\u001b[0m\u001b[0;34m\u001b[0m\u001b[0;34m\u001b[0m\u001b[0m\n\u001b[0;32m---> 15\u001b[0;31m \u001b[0mmy_map\u001b[0m\u001b[0;34m.\u001b[0m\u001b[0madd_ee_layer\u001b[0m\u001b[0;34m(\u001b[0m\u001b[0mvh_band\u001b[0m\u001b[0;34m,\u001b[0m \u001b[0mvh_vis_params\u001b[0m\u001b[0;34m,\u001b[0m \u001b[0;34m'Sentinel-1 VH'\u001b[0m\u001b[0;34m)\u001b[0m\u001b[0;34m\u001b[0m\u001b[0;34m\u001b[0m\u001b[0m\n\u001b[0m\u001b[1;32m     16\u001b[0m \u001b[0mmy_map\u001b[0m\u001b[0;34m.\u001b[0m\u001b[0madd_ee_layer\u001b[0m\u001b[0;34m(\u001b[0m\u001b[0mvv_band\u001b[0m\u001b[0;34m,\u001b[0m \u001b[0mvv_vis_params\u001b[0m\u001b[0;34m,\u001b[0m \u001b[0;34m'Sentinel-1 VV'\u001b[0m\u001b[0;34m)\u001b[0m\u001b[0;34m\u001b[0m\u001b[0;34m\u001b[0m\u001b[0m\n\u001b[1;32m     17\u001b[0m \u001b[0;34m\u001b[0m\u001b[0m\n",
            "\u001b[0;31mAttributeError\u001b[0m: 'Map' object has no attribute 'add_ee_layer'"
          ]
        }
      ]
    },
    {
      "cell_type": "code",
      "source": [
        "# Load the Google Satellite Embedding Collection\n",
        "embedding_collection = ee.ImageCollection('GOOGLE/SATELLITE_EMBEDDING/V1/ANNUAL')\n",
        "\n",
        "# Filter the collection by the area of interest\n",
        "filtered_embedding_collection = embedding_collection.filterBounds(ee_aoi)\n",
        "\n",
        "# Select the most recent image\n",
        "most_recent_embedding_image = filtered_embedding_collection.sort('system:time_start', False).first()\n",
        "\n",
        "# Print information about the selected image\n",
        "print(\"Most recent embedding image information:\", most_recent_embedding_image.getInfo())\n",
        "\n",
        "# Define visualization parameters\n",
        "embedding_vis_params = {'bands': ['A00', 'A01', 'A02'], 'min': -0.6, 'max': 0.3}\n",
        "\n",
        "# Create a Folium map centered on the AOI\n",
        "center_lat = (min_lat + max_lat) / 2\n",
        "center_lon = (min_lon + max_lon) / 2\n",
        "embedding_map = folium.Map(location=[center_lat, center_lon], zoom_start=12)\n",
        "\n",
        "# Add the embedding layer using getMapId (FIXED)\n",
        "embedding_map_id = most_recent_embedding_image.getMapId(embedding_vis_params)\n",
        "\n",
        "folium.raster_layers.TileLayer(\n",
        "    tiles=embedding_map_id['tile_fetcher'].url_format,\n",
        "    attr='Google Earth Engine',\n",
        "    name='Satellite Embedding',\n",
        "    overlay=True,\n",
        "    control=True\n",
        ").add_to(embedding_map)\n",
        "\n",
        "# Add layer control\n",
        "folium.LayerControl().add_to(embedding_map)\n",
        "\n",
        "# Display the map\n",
        "embedding_map"
      ],
      "metadata": {
        "id": "daZUhlMegnn9",
        "outputId": "81f430d4-25be-4dfd-85c7-d49fa7d7af76",
        "colab": {
          "base_uri": "https://localhost:8080/",
          "height": 805
        }
      },
      "execution_count": 20,
      "outputs": [
        {
          "output_type": "display_data",
          "data": {
            "text/plain": [
              "<IPython.core.display.HTML object>"
            ],
            "text/html": [
              "\n",
              "            <style>\n",
              "                .geemap-dark {\n",
              "                    --jp-widgets-color: white;\n",
              "                    --jp-widgets-label-color: white;\n",
              "                    --jp-ui-font-color1: white;\n",
              "                    --jp-layout-color2: #454545;\n",
              "                    background-color: #383838;\n",
              "                }\n",
              "\n",
              "                .geemap-dark .jupyter-button {\n",
              "                    --jp-layout-color3: #383838;\n",
              "                }\n",
              "\n",
              "                .geemap-colab {\n",
              "                    background-color: var(--colab-primary-surface-color, white);\n",
              "                }\n",
              "\n",
              "                .geemap-colab .jupyter-button {\n",
              "                    --jp-layout-color3: var(--colab-primary-surface-color, white);\n",
              "                }\n",
              "            </style>\n",
              "            "
            ]
          },
          "metadata": {}
        },
        {
          "output_type": "stream",
          "name": "stdout",
          "text": [
            "Most recent embedding image information: {'type': 'Image', 'bands': [{'id': 'A00', 'data_type': {'type': 'PixelType', 'precision': 'double'}, 'dimensions': [16384, 16384], 'crs': 'EPSG:32628', 'crs_transform': [10, 0, 336160, 0, 10, 7208960]}, {'id': 'A01', 'data_type': {'type': 'PixelType', 'precision': 'double'}, 'dimensions': [16384, 16384], 'crs': 'EPSG:32628', 'crs_transform': [10, 0, 336160, 0, 10, 7208960]}, {'id': 'A02', 'data_type': {'type': 'PixelType', 'precision': 'double'}, 'dimensions': [16384, 16384], 'crs': 'EPSG:32628', 'crs_transform': [10, 0, 336160, 0, 10, 7208960]}, {'id': 'A03', 'data_type': {'type': 'PixelType', 'precision': 'double'}, 'dimensions': [16384, 16384], 'crs': 'EPSG:32628', 'crs_transform': [10, 0, 336160, 0, 10, 7208960]}, {'id': 'A04', 'data_type': {'type': 'PixelType', 'precision': 'double'}, 'dimensions': [16384, 16384], 'crs': 'EPSG:32628', 'crs_transform': [10, 0, 336160, 0, 10, 7208960]}, {'id': 'A05', 'data_type': {'type': 'PixelType', 'precision': 'double'}, 'dimensions': [16384, 16384], 'crs': 'EPSG:32628', 'crs_transform': [10, 0, 336160, 0, 10, 7208960]}, {'id': 'A06', 'data_type': {'type': 'PixelType', 'precision': 'double'}, 'dimensions': [16384, 16384], 'crs': 'EPSG:32628', 'crs_transform': [10, 0, 336160, 0, 10, 7208960]}, {'id': 'A07', 'data_type': {'type': 'PixelType', 'precision': 'double'}, 'dimensions': [16384, 16384], 'crs': 'EPSG:32628', 'crs_transform': [10, 0, 336160, 0, 10, 7208960]}, {'id': 'A08', 'data_type': {'type': 'PixelType', 'precision': 'double'}, 'dimensions': [16384, 16384], 'crs': 'EPSG:32628', 'crs_transform': [10, 0, 336160, 0, 10, 7208960]}, {'id': 'A09', 'data_type': {'type': 'PixelType', 'precision': 'double'}, 'dimensions': [16384, 16384], 'crs': 'EPSG:32628', 'crs_transform': [10, 0, 336160, 0, 10, 7208960]}, {'id': 'A10', 'data_type': {'type': 'PixelType', 'precision': 'double'}, 'dimensions': [16384, 16384], 'crs': 'EPSG:32628', 'crs_transform': [10, 0, 336160, 0, 10, 7208960]}, {'id': 'A11', 'data_type': {'type': 'PixelType', 'precision': 'double'}, 'dimensions': [16384, 16384], 'crs': 'EPSG:32628', 'crs_transform': [10, 0, 336160, 0, 10, 7208960]}, {'id': 'A12', 'data_type': {'type': 'PixelType', 'precision': 'double'}, 'dimensions': [16384, 16384], 'crs': 'EPSG:32628', 'crs_transform': [10, 0, 336160, 0, 10, 7208960]}, {'id': 'A13', 'data_type': {'type': 'PixelType', 'precision': 'double'}, 'dimensions': [16384, 16384], 'crs': 'EPSG:32628', 'crs_transform': [10, 0, 336160, 0, 10, 7208960]}, {'id': 'A14', 'data_type': {'type': 'PixelType', 'precision': 'double'}, 'dimensions': [16384, 16384], 'crs': 'EPSG:32628', 'crs_transform': [10, 0, 336160, 0, 10, 7208960]}, {'id': 'A15', 'data_type': {'type': 'PixelType', 'precision': 'double'}, 'dimensions': [16384, 16384], 'crs': 'EPSG:32628', 'crs_transform': [10, 0, 336160, 0, 10, 7208960]}, {'id': 'A16', 'data_type': {'type': 'PixelType', 'precision': 'double'}, 'dimensions': [16384, 16384], 'crs': 'EPSG:32628', 'crs_transform': [10, 0, 336160, 0, 10, 7208960]}, {'id': 'A17', 'data_type': {'type': 'PixelType', 'precision': 'double'}, 'dimensions': [16384, 16384], 'crs': 'EPSG:32628', 'crs_transform': [10, 0, 336160, 0, 10, 7208960]}, {'id': 'A18', 'data_type': {'type': 'PixelType', 'precision': 'double'}, 'dimensions': [16384, 16384], 'crs': 'EPSG:32628', 'crs_transform': [10, 0, 336160, 0, 10, 7208960]}, {'id': 'A19', 'data_type': {'type': 'PixelType', 'precision': 'double'}, 'dimensions': [16384, 16384], 'crs': 'EPSG:32628', 'crs_transform': [10, 0, 336160, 0, 10, 7208960]}, {'id': 'A20', 'data_type': {'type': 'PixelType', 'precision': 'double'}, 'dimensions': [16384, 16384], 'crs': 'EPSG:32628', 'crs_transform': [10, 0, 336160, 0, 10, 7208960]}, {'id': 'A21', 'data_type': {'type': 'PixelType', 'precision': 'double'}, 'dimensions': [16384, 16384], 'crs': 'EPSG:32628', 'crs_transform': [10, 0, 336160, 0, 10, 7208960]}, {'id': 'A22', 'data_type': {'type': 'PixelType', 'precision': 'double'}, 'dimensions': [16384, 16384], 'crs': 'EPSG:32628', 'crs_transform': [10, 0, 336160, 0, 10, 7208960]}, {'id': 'A23', 'data_type': {'type': 'PixelType', 'precision': 'double'}, 'dimensions': [16384, 16384], 'crs': 'EPSG:32628', 'crs_transform': [10, 0, 336160, 0, 10, 7208960]}, {'id': 'A24', 'data_type': {'type': 'PixelType', 'precision': 'double'}, 'dimensions': [16384, 16384], 'crs': 'EPSG:32628', 'crs_transform': [10, 0, 336160, 0, 10, 7208960]}, {'id': 'A25', 'data_type': {'type': 'PixelType', 'precision': 'double'}, 'dimensions': [16384, 16384], 'crs': 'EPSG:32628', 'crs_transform': [10, 0, 336160, 0, 10, 7208960]}, {'id': 'A26', 'data_type': {'type': 'PixelType', 'precision': 'double'}, 'dimensions': [16384, 16384], 'crs': 'EPSG:32628', 'crs_transform': [10, 0, 336160, 0, 10, 7208960]}, {'id': 'A27', 'data_type': {'type': 'PixelType', 'precision': 'double'}, 'dimensions': [16384, 16384], 'crs': 'EPSG:32628', 'crs_transform': [10, 0, 336160, 0, 10, 7208960]}, {'id': 'A28', 'data_type': {'type': 'PixelType', 'precision': 'double'}, 'dimensions': [16384, 16384], 'crs': 'EPSG:32628', 'crs_transform': [10, 0, 336160, 0, 10, 7208960]}, {'id': 'A29', 'data_type': {'type': 'PixelType', 'precision': 'double'}, 'dimensions': [16384, 16384], 'crs': 'EPSG:32628', 'crs_transform': [10, 0, 336160, 0, 10, 7208960]}, {'id': 'A30', 'data_type': {'type': 'PixelType', 'precision': 'double'}, 'dimensions': [16384, 16384], 'crs': 'EPSG:32628', 'crs_transform': [10, 0, 336160, 0, 10, 7208960]}, {'id': 'A31', 'data_type': {'type': 'PixelType', 'precision': 'double'}, 'dimensions': [16384, 16384], 'crs': 'EPSG:32628', 'crs_transform': [10, 0, 336160, 0, 10, 7208960]}, {'id': 'A32', 'data_type': {'type': 'PixelType', 'precision': 'double'}, 'dimensions': [16384, 16384], 'crs': 'EPSG:32628', 'crs_transform': [10, 0, 336160, 0, 10, 7208960]}, {'id': 'A33', 'data_type': {'type': 'PixelType', 'precision': 'double'}, 'dimensions': [16384, 16384], 'crs': 'EPSG:32628', 'crs_transform': [10, 0, 336160, 0, 10, 7208960]}, {'id': 'A34', 'data_type': {'type': 'PixelType', 'precision': 'double'}, 'dimensions': [16384, 16384], 'crs': 'EPSG:32628', 'crs_transform': [10, 0, 336160, 0, 10, 7208960]}, {'id': 'A35', 'data_type': {'type': 'PixelType', 'precision': 'double'}, 'dimensions': [16384, 16384], 'crs': 'EPSG:32628', 'crs_transform': [10, 0, 336160, 0, 10, 7208960]}, {'id': 'A36', 'data_type': {'type': 'PixelType', 'precision': 'double'}, 'dimensions': [16384, 16384], 'crs': 'EPSG:32628', 'crs_transform': [10, 0, 336160, 0, 10, 7208960]}, {'id': 'A37', 'data_type': {'type': 'PixelType', 'precision': 'double'}, 'dimensions': [16384, 16384], 'crs': 'EPSG:32628', 'crs_transform': [10, 0, 336160, 0, 10, 7208960]}, {'id': 'A38', 'data_type': {'type': 'PixelType', 'precision': 'double'}, 'dimensions': [16384, 16384], 'crs': 'EPSG:32628', 'crs_transform': [10, 0, 336160, 0, 10, 7208960]}, {'id': 'A39', 'data_type': {'type': 'PixelType', 'precision': 'double'}, 'dimensions': [16384, 16384], 'crs': 'EPSG:32628', 'crs_transform': [10, 0, 336160, 0, 10, 7208960]}, {'id': 'A40', 'data_type': {'type': 'PixelType', 'precision': 'double'}, 'dimensions': [16384, 16384], 'crs': 'EPSG:32628', 'crs_transform': [10, 0, 336160, 0, 10, 7208960]}, {'id': 'A41', 'data_type': {'type': 'PixelType', 'precision': 'double'}, 'dimensions': [16384, 16384], 'crs': 'EPSG:32628', 'crs_transform': [10, 0, 336160, 0, 10, 7208960]}, {'id': 'A42', 'data_type': {'type': 'PixelType', 'precision': 'double'}, 'dimensions': [16384, 16384], 'crs': 'EPSG:32628', 'crs_transform': [10, 0, 336160, 0, 10, 7208960]}, {'id': 'A43', 'data_type': {'type': 'PixelType', 'precision': 'double'}, 'dimensions': [16384, 16384], 'crs': 'EPSG:32628', 'crs_transform': [10, 0, 336160, 0, 10, 7208960]}, {'id': 'A44', 'data_type': {'type': 'PixelType', 'precision': 'double'}, 'dimensions': [16384, 16384], 'crs': 'EPSG:32628', 'crs_transform': [10, 0, 336160, 0, 10, 7208960]}, {'id': 'A45', 'data_type': {'type': 'PixelType', 'precision': 'double'}, 'dimensions': [16384, 16384], 'crs': 'EPSG:32628', 'crs_transform': [10, 0, 336160, 0, 10, 7208960]}, {'id': 'A46', 'data_type': {'type': 'PixelType', 'precision': 'double'}, 'dimensions': [16384, 16384], 'crs': 'EPSG:32628', 'crs_transform': [10, 0, 336160, 0, 10, 7208960]}, {'id': 'A47', 'data_type': {'type': 'PixelType', 'precision': 'double'}, 'dimensions': [16384, 16384], 'crs': 'EPSG:32628', 'crs_transform': [10, 0, 336160, 0, 10, 7208960]}, {'id': 'A48', 'data_type': {'type': 'PixelType', 'precision': 'double'}, 'dimensions': [16384, 16384], 'crs': 'EPSG:32628', 'crs_transform': [10, 0, 336160, 0, 10, 7208960]}, {'id': 'A49', 'data_type': {'type': 'PixelType', 'precision': 'double'}, 'dimensions': [16384, 16384], 'crs': 'EPSG:32628', 'crs_transform': [10, 0, 336160, 0, 10, 7208960]}, {'id': 'A50', 'data_type': {'type': 'PixelType', 'precision': 'double'}, 'dimensions': [16384, 16384], 'crs': 'EPSG:32628', 'crs_transform': [10, 0, 336160, 0, 10, 7208960]}, {'id': 'A51', 'data_type': {'type': 'PixelType', 'precision': 'double'}, 'dimensions': [16384, 16384], 'crs': 'EPSG:32628', 'crs_transform': [10, 0, 336160, 0, 10, 7208960]}, {'id': 'A52', 'data_type': {'type': 'PixelType', 'precision': 'double'}, 'dimensions': [16384, 16384], 'crs': 'EPSG:32628', 'crs_transform': [10, 0, 336160, 0, 10, 7208960]}, {'id': 'A53', 'data_type': {'type': 'PixelType', 'precision': 'double'}, 'dimensions': [16384, 16384], 'crs': 'EPSG:32628', 'crs_transform': [10, 0, 336160, 0, 10, 7208960]}, {'id': 'A54', 'data_type': {'type': 'PixelType', 'precision': 'double'}, 'dimensions': [16384, 16384], 'crs': 'EPSG:32628', 'crs_transform': [10, 0, 336160, 0, 10, 7208960]}, {'id': 'A55', 'data_type': {'type': 'PixelType', 'precision': 'double'}, 'dimensions': [16384, 16384], 'crs': 'EPSG:32628', 'crs_transform': [10, 0, 336160, 0, 10, 7208960]}, {'id': 'A56', 'data_type': {'type': 'PixelType', 'precision': 'double'}, 'dimensions': [16384, 16384], 'crs': 'EPSG:32628', 'crs_transform': [10, 0, 336160, 0, 10, 7208960]}, {'id': 'A57', 'data_type': {'type': 'PixelType', 'precision': 'double'}, 'dimensions': [16384, 16384], 'crs': 'EPSG:32628', 'crs_transform': [10, 0, 336160, 0, 10, 7208960]}, {'id': 'A58', 'data_type': {'type': 'PixelType', 'precision': 'double'}, 'dimensions': [16384, 16384], 'crs': 'EPSG:32628', 'crs_transform': [10, 0, 336160, 0, 10, 7208960]}, {'id': 'A59', 'data_type': {'type': 'PixelType', 'precision': 'double'}, 'dimensions': [16384, 16384], 'crs': 'EPSG:32628', 'crs_transform': [10, 0, 336160, 0, 10, 7208960]}, {'id': 'A60', 'data_type': {'type': 'PixelType', 'precision': 'double'}, 'dimensions': [16384, 16384], 'crs': 'EPSG:32628', 'crs_transform': [10, 0, 336160, 0, 10, 7208960]}, {'id': 'A61', 'data_type': {'type': 'PixelType', 'precision': 'double'}, 'dimensions': [16384, 16384], 'crs': 'EPSG:32628', 'crs_transform': [10, 0, 336160, 0, 10, 7208960]}, {'id': 'A62', 'data_type': {'type': 'PixelType', 'precision': 'double'}, 'dimensions': [16384, 16384], 'crs': 'EPSG:32628', 'crs_transform': [10, 0, 336160, 0, 10, 7208960]}, {'id': 'A63', 'data_type': {'type': 'PixelType', 'precision': 'double'}, 'dimensions': [16384, 16384], 'crs': 'EPSG:32628', 'crs_transform': [10, 0, 336160, 0, 10, 7208960]}], 'version': 1751567047349215, 'id': 'GOOGLE/SATELLITE_EMBEDDING/V1/ANNUAL/xq771ak2z08dejizp', 'properties': {'system:time_end': 1735689600000, 'system:index': 'xq771ak2z08dejizp', 'system:time_start': 1704067200000, 'PROCESSING_SOFTWARE_VERSION': '1.01', 'UTM_ZONE': '28N', 'MODEL_VERSION': '2.1', 'DATASET_VERSION': '1.0'}}\n"
          ]
        },
        {
          "output_type": "execute_result",
          "data": {
            "text/plain": [
              "<folium.folium.Map at 0x7f8f6cbcf1d0>"
            ],
            "text/html": [
              "<div style=\"width:100%;\"><div style=\"position:relative;width:100%;height:0;padding-bottom:60%;\"><span style=\"color:#565656\">Make this Notebook Trusted to load map: File -> Trust Notebook</span><iframe srcdoc=\"&lt;!DOCTYPE html&gt;\n",
              "&lt;html&gt;\n",
              "&lt;head&gt;\n",
              "    \n",
              "    &lt;meta http-equiv=&quot;content-type&quot; content=&quot;text/html; charset=UTF-8&quot; /&gt;\n",
              "    &lt;script src=&quot;https://cdn.jsdelivr.net/npm/leaflet@1.9.3/dist/leaflet.js&quot;&gt;&lt;/script&gt;\n",
              "    &lt;script src=&quot;https://code.jquery.com/jquery-3.7.1.min.js&quot;&gt;&lt;/script&gt;\n",
              "    &lt;script src=&quot;https://cdn.jsdelivr.net/npm/bootstrap@5.2.2/dist/js/bootstrap.bundle.min.js&quot;&gt;&lt;/script&gt;\n",
              "    &lt;script src=&quot;https://cdnjs.cloudflare.com/ajax/libs/Leaflet.awesome-markers/2.0.2/leaflet.awesome-markers.js&quot;&gt;&lt;/script&gt;\n",
              "    &lt;link rel=&quot;stylesheet&quot; href=&quot;https://cdn.jsdelivr.net/npm/leaflet@1.9.3/dist/leaflet.css&quot;/&gt;\n",
              "    &lt;link rel=&quot;stylesheet&quot; href=&quot;https://cdn.jsdelivr.net/npm/bootstrap@5.2.2/dist/css/bootstrap.min.css&quot;/&gt;\n",
              "    &lt;link rel=&quot;stylesheet&quot; href=&quot;https://netdna.bootstrapcdn.com/bootstrap/3.0.0/css/bootstrap-glyphicons.css&quot;/&gt;\n",
              "    &lt;link rel=&quot;stylesheet&quot; href=&quot;https://cdn.jsdelivr.net/npm/@fortawesome/fontawesome-free@6.2.0/css/all.min.css&quot;/&gt;\n",
              "    &lt;link rel=&quot;stylesheet&quot; href=&quot;https://cdnjs.cloudflare.com/ajax/libs/Leaflet.awesome-markers/2.0.2/leaflet.awesome-markers.css&quot;/&gt;\n",
              "    &lt;link rel=&quot;stylesheet&quot; href=&quot;https://cdn.jsdelivr.net/gh/python-visualization/folium/folium/templates/leaflet.awesome.rotate.min.css&quot;/&gt;\n",
              "    \n",
              "            &lt;meta name=&quot;viewport&quot; content=&quot;width=device-width,\n",
              "                initial-scale=1.0, maximum-scale=1.0, user-scalable=no&quot; /&gt;\n",
              "            &lt;style&gt;\n",
              "                #map_39c426f5ad0174597188cbd70f5d5563 {\n",
              "                    position: relative;\n",
              "                    width: 100.0%;\n",
              "                    height: 100.0%;\n",
              "                    left: 0.0%;\n",
              "                    top: 0.0%;\n",
              "                }\n",
              "                .leaflet-container { font-size: 1rem; }\n",
              "            &lt;/style&gt;\n",
              "\n",
              "            &lt;style&gt;html, body {\n",
              "                width: 100%;\n",
              "                height: 100%;\n",
              "                margin: 0;\n",
              "                padding: 0;\n",
              "            }\n",
              "            &lt;/style&gt;\n",
              "\n",
              "            &lt;style&gt;#map {\n",
              "                position:absolute;\n",
              "                top:0;\n",
              "                bottom:0;\n",
              "                right:0;\n",
              "                left:0;\n",
              "                }\n",
              "            &lt;/style&gt;\n",
              "\n",
              "            &lt;script&gt;\n",
              "                L_NO_TOUCH = false;\n",
              "                L_DISABLE_3D = false;\n",
              "            &lt;/script&gt;\n",
              "\n",
              "        \n",
              "&lt;/head&gt;\n",
              "&lt;body&gt;\n",
              "    \n",
              "    \n",
              "            &lt;div class=&quot;folium-map&quot; id=&quot;map_39c426f5ad0174597188cbd70f5d5563&quot; &gt;&lt;/div&gt;\n",
              "        \n",
              "&lt;/body&gt;\n",
              "&lt;script&gt;\n",
              "    \n",
              "    \n",
              "            var map_39c426f5ad0174597188cbd70f5d5563 = L.map(\n",
              "                &quot;map_39c426f5ad0174597188cbd70f5d5563&quot;,\n",
              "                {\n",
              "                    center: [66.139389, -15.496028],\n",
              "                    crs: L.CRS.EPSG3857,\n",
              "                    ...{\n",
              "  &quot;zoom&quot;: 12,\n",
              "  &quot;zoomControl&quot;: true,\n",
              "  &quot;preferCanvas&quot;: false,\n",
              "}\n",
              "\n",
              "                }\n",
              "            );\n",
              "\n",
              "            \n",
              "\n",
              "        \n",
              "    \n",
              "            var tile_layer_dd82afc82fb9dfcd7c8853abb8865000 = L.tileLayer(\n",
              "                &quot;https://tile.openstreetmap.org/{z}/{x}/{y}.png&quot;,\n",
              "                {\n",
              "  &quot;minZoom&quot;: 0,\n",
              "  &quot;maxZoom&quot;: 19,\n",
              "  &quot;maxNativeZoom&quot;: 19,\n",
              "  &quot;noWrap&quot;: false,\n",
              "  &quot;attribution&quot;: &quot;\\u0026copy; \\u003ca href=\\&quot;https://www.openstreetmap.org/copyright\\&quot;\\u003eOpenStreetMap\\u003c/a\\u003e contributors&quot;,\n",
              "  &quot;subdomains&quot;: &quot;abc&quot;,\n",
              "  &quot;detectRetina&quot;: false,\n",
              "  &quot;tms&quot;: false,\n",
              "  &quot;opacity&quot;: 1,\n",
              "}\n",
              "\n",
              "            );\n",
              "        \n",
              "    \n",
              "            tile_layer_dd82afc82fb9dfcd7c8853abb8865000.addTo(map_39c426f5ad0174597188cbd70f5d5563);\n",
              "        \n",
              "    \n",
              "            var tile_layer_db37c3a7c02f343aade8a8f74a525cf6 = L.tileLayer(\n",
              "                &quot;https://earthengine.googleapis.com/v1/projects/forest-loss-monitoring/maps/f0857f63cf48ba3840626f7d6f5cf4e5-34203f1b8214d5c5347305cf8718922f/tiles/{z}/{x}/{y}&quot;,\n",
              "                {\n",
              "  &quot;minZoom&quot;: 0,\n",
              "  &quot;maxZoom&quot;: 18,\n",
              "  &quot;maxNativeZoom&quot;: 18,\n",
              "  &quot;noWrap&quot;: false,\n",
              "  &quot;attribution&quot;: &quot;Google Earth Engine&quot;,\n",
              "  &quot;subdomains&quot;: &quot;abc&quot;,\n",
              "  &quot;detectRetina&quot;: false,\n",
              "  &quot;tms&quot;: false,\n",
              "  &quot;opacity&quot;: 1,\n",
              "}\n",
              "\n",
              "            );\n",
              "        \n",
              "    \n",
              "            tile_layer_db37c3a7c02f343aade8a8f74a525cf6.addTo(map_39c426f5ad0174597188cbd70f5d5563);\n",
              "        \n",
              "    \n",
              "            var layer_control_32234ff19e914c0e7624874a65420274_layers = {\n",
              "                base_layers : {\n",
              "                    &quot;openstreetmap&quot; : tile_layer_dd82afc82fb9dfcd7c8853abb8865000,\n",
              "                },\n",
              "                overlays :  {\n",
              "                    &quot;Satellite Embedding&quot; : tile_layer_db37c3a7c02f343aade8a8f74a525cf6,\n",
              "                },\n",
              "            };\n",
              "            let layer_control_32234ff19e914c0e7624874a65420274 = L.control.layers(\n",
              "                layer_control_32234ff19e914c0e7624874a65420274_layers.base_layers,\n",
              "                layer_control_32234ff19e914c0e7624874a65420274_layers.overlays,\n",
              "                {\n",
              "  &quot;position&quot;: &quot;topright&quot;,\n",
              "  &quot;collapsed&quot;: true,\n",
              "  &quot;autoZIndex&quot;: true,\n",
              "}\n",
              "            ).addTo(map_39c426f5ad0174597188cbd70f5d5563);\n",
              "\n",
              "        \n",
              "&lt;/script&gt;\n",
              "&lt;/html&gt;\" style=\"position:absolute;width:100%;height:100%;left:0;top:0;border:none !important;\" allowfullscreen webkitallowfullscreen mozallowfullscreen></iframe></div></div>"
            ]
          },
          "metadata": {},
          "execution_count": 20
        }
      ]
    },
    {
      "cell_type": "markdown",
      "metadata": {
        "id": "10c57418"
      },
      "source": [
        "## Access and Display Google Satellite Embedding Data\n",
        "\n",
        "### Subtask:\n",
        "Load an image from the Google Satellite Embedding Collection for the area of interest."
      ]
    },
    {
      "cell_type": "markdown",
      "metadata": {
        "id": "b243c618"
      },
      "source": [
        "**Reasoning**:\n",
        "Load the Google Satellite Embedding Collection, filter it by the area of interest and date, and select an image to display."
      ]
    },
    {
      "cell_type": "code",
      "metadata": {
        "colab": {
          "base_uri": "https://localhost:8080/",
          "height": 248
        },
        "id": "81c02577",
        "outputId": "2126451d-d0a2-4372-9b14-6846a1ef9b5a"
      },
      "source": [
        "# Load the Google Satellite Embedding Collection\n",
        "embedding_collection = ee.ImageCollection('GOOGLE/SATELLITE_EMBEDDING/V1/ANNUAL')\n",
        "\n",
        "# Filter the collection by the area of interest\n",
        "filtered_embedding_collection = embedding_collection.filterBounds(ee_aoi)\n",
        "\n",
        "# Select the most recent image in the filtered collection (assuming there is one)\n",
        "# You might need to adjust date filtering based on the dataset's available dates\n",
        "most_recent_embedding_image = filtered_embedding_collection.sort('system:time_start', False).first()\n",
        "\n",
        "# Print information about the selected image\n",
        "print(\"Most recent embedding image information:\", most_recent_embedding_image.getInfo())\n",
        "\n",
        "# Define visualization parameters for the embedding image (this will depend on what you want to visualize)\n",
        "# For demonstration, let's visualize the first three bands as RGB\n",
        "# Updated min/max based on the calculated values for A00, A01, A02\n",
        "embedding_vis_params = {'bands': ['A00', 'A01', 'A02'], 'min': -0.6, 'max': 0.3}\n",
        "\n",
        "\n",
        "# Create a Folium map centered on the AOI\n",
        "center_lat = (min_lat + max_lat) / 2\n",
        "center_lon = (min_lon + max_lon) / 2\n",
        "embedding_map = folium.Map(location=[center_lat, center_lon], zoom_start=12)\n",
        "\n",
        "# Add the embedding layer to the map\n",
        "embedding_map.add_ee_layer(most_recent_embedding_image, embedding_vis_params, 'Satellite Embedding')\n",
        "\n",
        "# Add a layer control panel to the map\n",
        "embedding_map.add_child(folium.LayerControl())\n",
        "\n",
        "# Display the map\n",
        "display(embedding_map)"
      ],
      "execution_count": 19,
      "outputs": [
        {
          "output_type": "display_data",
          "data": {
            "text/plain": [
              "<IPython.core.display.HTML object>"
            ],
            "text/html": [
              "\n",
              "            <style>\n",
              "                .geemap-dark {\n",
              "                    --jp-widgets-color: white;\n",
              "                    --jp-widgets-label-color: white;\n",
              "                    --jp-ui-font-color1: white;\n",
              "                    --jp-layout-color2: #454545;\n",
              "                    background-color: #383838;\n",
              "                }\n",
              "\n",
              "                .geemap-dark .jupyter-button {\n",
              "                    --jp-layout-color3: #383838;\n",
              "                }\n",
              "\n",
              "                .geemap-colab {\n",
              "                    background-color: var(--colab-primary-surface-color, white);\n",
              "                }\n",
              "\n",
              "                .geemap-colab .jupyter-button {\n",
              "                    --jp-layout-color3: var(--colab-primary-surface-color, white);\n",
              "                }\n",
              "            </style>\n",
              "            "
            ]
          },
          "metadata": {}
        },
        {
          "output_type": "stream",
          "name": "stdout",
          "text": [
            "Most recent embedding image information: {'type': 'Image', 'bands': [{'id': 'A00', 'data_type': {'type': 'PixelType', 'precision': 'double'}, 'dimensions': [16384, 16384], 'crs': 'EPSG:32628', 'crs_transform': [10, 0, 336160, 0, 10, 7208960]}, {'id': 'A01', 'data_type': {'type': 'PixelType', 'precision': 'double'}, 'dimensions': [16384, 16384], 'crs': 'EPSG:32628', 'crs_transform': [10, 0, 336160, 0, 10, 7208960]}, {'id': 'A02', 'data_type': {'type': 'PixelType', 'precision': 'double'}, 'dimensions': [16384, 16384], 'crs': 'EPSG:32628', 'crs_transform': [10, 0, 336160, 0, 10, 7208960]}, {'id': 'A03', 'data_type': {'type': 'PixelType', 'precision': 'double'}, 'dimensions': [16384, 16384], 'crs': 'EPSG:32628', 'crs_transform': [10, 0, 336160, 0, 10, 7208960]}, {'id': 'A04', 'data_type': {'type': 'PixelType', 'precision': 'double'}, 'dimensions': [16384, 16384], 'crs': 'EPSG:32628', 'crs_transform': [10, 0, 336160, 0, 10, 7208960]}, {'id': 'A05', 'data_type': {'type': 'PixelType', 'precision': 'double'}, 'dimensions': [16384, 16384], 'crs': 'EPSG:32628', 'crs_transform': [10, 0, 336160, 0, 10, 7208960]}, {'id': 'A06', 'data_type': {'type': 'PixelType', 'precision': 'double'}, 'dimensions': [16384, 16384], 'crs': 'EPSG:32628', 'crs_transform': [10, 0, 336160, 0, 10, 7208960]}, {'id': 'A07', 'data_type': {'type': 'PixelType', 'precision': 'double'}, 'dimensions': [16384, 16384], 'crs': 'EPSG:32628', 'crs_transform': [10, 0, 336160, 0, 10, 7208960]}, {'id': 'A08', 'data_type': {'type': 'PixelType', 'precision': 'double'}, 'dimensions': [16384, 16384], 'crs': 'EPSG:32628', 'crs_transform': [10, 0, 336160, 0, 10, 7208960]}, {'id': 'A09', 'data_type': {'type': 'PixelType', 'precision': 'double'}, 'dimensions': [16384, 16384], 'crs': 'EPSG:32628', 'crs_transform': [10, 0, 336160, 0, 10, 7208960]}, {'id': 'A10', 'data_type': {'type': 'PixelType', 'precision': 'double'}, 'dimensions': [16384, 16384], 'crs': 'EPSG:32628', 'crs_transform': [10, 0, 336160, 0, 10, 7208960]}, {'id': 'A11', 'data_type': {'type': 'PixelType', 'precision': 'double'}, 'dimensions': [16384, 16384], 'crs': 'EPSG:32628', 'crs_transform': [10, 0, 336160, 0, 10, 7208960]}, {'id': 'A12', 'data_type': {'type': 'PixelType', 'precision': 'double'}, 'dimensions': [16384, 16384], 'crs': 'EPSG:32628', 'crs_transform': [10, 0, 336160, 0, 10, 7208960]}, {'id': 'A13', 'data_type': {'type': 'PixelType', 'precision': 'double'}, 'dimensions': [16384, 16384], 'crs': 'EPSG:32628', 'crs_transform': [10, 0, 336160, 0, 10, 7208960]}, {'id': 'A14', 'data_type': {'type': 'PixelType', 'precision': 'double'}, 'dimensions': [16384, 16384], 'crs': 'EPSG:32628', 'crs_transform': [10, 0, 336160, 0, 10, 7208960]}, {'id': 'A15', 'data_type': {'type': 'PixelType', 'precision': 'double'}, 'dimensions': [16384, 16384], 'crs': 'EPSG:32628', 'crs_transform': [10, 0, 336160, 0, 10, 7208960]}, {'id': 'A16', 'data_type': {'type': 'PixelType', 'precision': 'double'}, 'dimensions': [16384, 16384], 'crs': 'EPSG:32628', 'crs_transform': [10, 0, 336160, 0, 10, 7208960]}, {'id': 'A17', 'data_type': {'type': 'PixelType', 'precision': 'double'}, 'dimensions': [16384, 16384], 'crs': 'EPSG:32628', 'crs_transform': [10, 0, 336160, 0, 10, 7208960]}, {'id': 'A18', 'data_type': {'type': 'PixelType', 'precision': 'double'}, 'dimensions': [16384, 16384], 'crs': 'EPSG:32628', 'crs_transform': [10, 0, 336160, 0, 10, 7208960]}, {'id': 'A19', 'data_type': {'type': 'PixelType', 'precision': 'double'}, 'dimensions': [16384, 16384], 'crs': 'EPSG:32628', 'crs_transform': [10, 0, 336160, 0, 10, 7208960]}, {'id': 'A20', 'data_type': {'type': 'PixelType', 'precision': 'double'}, 'dimensions': [16384, 16384], 'crs': 'EPSG:32628', 'crs_transform': [10, 0, 336160, 0, 10, 7208960]}, {'id': 'A21', 'data_type': {'type': 'PixelType', 'precision': 'double'}, 'dimensions': [16384, 16384], 'crs': 'EPSG:32628', 'crs_transform': [10, 0, 336160, 0, 10, 7208960]}, {'id': 'A22', 'data_type': {'type': 'PixelType', 'precision': 'double'}, 'dimensions': [16384, 16384], 'crs': 'EPSG:32628', 'crs_transform': [10, 0, 336160, 0, 10, 7208960]}, {'id': 'A23', 'data_type': {'type': 'PixelType', 'precision': 'double'}, 'dimensions': [16384, 16384], 'crs': 'EPSG:32628', 'crs_transform': [10, 0, 336160, 0, 10, 7208960]}, {'id': 'A24', 'data_type': {'type': 'PixelType', 'precision': 'double'}, 'dimensions': [16384, 16384], 'crs': 'EPSG:32628', 'crs_transform': [10, 0, 336160, 0, 10, 7208960]}, {'id': 'A25', 'data_type': {'type': 'PixelType', 'precision': 'double'}, 'dimensions': [16384, 16384], 'crs': 'EPSG:32628', 'crs_transform': [10, 0, 336160, 0, 10, 7208960]}, {'id': 'A26', 'data_type': {'type': 'PixelType', 'precision': 'double'}, 'dimensions': [16384, 16384], 'crs': 'EPSG:32628', 'crs_transform': [10, 0, 336160, 0, 10, 7208960]}, {'id': 'A27', 'data_type': {'type': 'PixelType', 'precision': 'double'}, 'dimensions': [16384, 16384], 'crs': 'EPSG:32628', 'crs_transform': [10, 0, 336160, 0, 10, 7208960]}, {'id': 'A28', 'data_type': {'type': 'PixelType', 'precision': 'double'}, 'dimensions': [16384, 16384], 'crs': 'EPSG:32628', 'crs_transform': [10, 0, 336160, 0, 10, 7208960]}, {'id': 'A29', 'data_type': {'type': 'PixelType', 'precision': 'double'}, 'dimensions': [16384, 16384], 'crs': 'EPSG:32628', 'crs_transform': [10, 0, 336160, 0, 10, 7208960]}, {'id': 'A30', 'data_type': {'type': 'PixelType', 'precision': 'double'}, 'dimensions': [16384, 16384], 'crs': 'EPSG:32628', 'crs_transform': [10, 0, 336160, 0, 10, 7208960]}, {'id': 'A31', 'data_type': {'type': 'PixelType', 'precision': 'double'}, 'dimensions': [16384, 16384], 'crs': 'EPSG:32628', 'crs_transform': [10, 0, 336160, 0, 10, 7208960]}, {'id': 'A32', 'data_type': {'type': 'PixelType', 'precision': 'double'}, 'dimensions': [16384, 16384], 'crs': 'EPSG:32628', 'crs_transform': [10, 0, 336160, 0, 10, 7208960]}, {'id': 'A33', 'data_type': {'type': 'PixelType', 'precision': 'double'}, 'dimensions': [16384, 16384], 'crs': 'EPSG:32628', 'crs_transform': [10, 0, 336160, 0, 10, 7208960]}, {'id': 'A34', 'data_type': {'type': 'PixelType', 'precision': 'double'}, 'dimensions': [16384, 16384], 'crs': 'EPSG:32628', 'crs_transform': [10, 0, 336160, 0, 10, 7208960]}, {'id': 'A35', 'data_type': {'type': 'PixelType', 'precision': 'double'}, 'dimensions': [16384, 16384], 'crs': 'EPSG:32628', 'crs_transform': [10, 0, 336160, 0, 10, 7208960]}, {'id': 'A36', 'data_type': {'type': 'PixelType', 'precision': 'double'}, 'dimensions': [16384, 16384], 'crs': 'EPSG:32628', 'crs_transform': [10, 0, 336160, 0, 10, 7208960]}, {'id': 'A37', 'data_type': {'type': 'PixelType', 'precision': 'double'}, 'dimensions': [16384, 16384], 'crs': 'EPSG:32628', 'crs_transform': [10, 0, 336160, 0, 10, 7208960]}, {'id': 'A38', 'data_type': {'type': 'PixelType', 'precision': 'double'}, 'dimensions': [16384, 16384], 'crs': 'EPSG:32628', 'crs_transform': [10, 0, 336160, 0, 10, 7208960]}, {'id': 'A39', 'data_type': {'type': 'PixelType', 'precision': 'double'}, 'dimensions': [16384, 16384], 'crs': 'EPSG:32628', 'crs_transform': [10, 0, 336160, 0, 10, 7208960]}, {'id': 'A40', 'data_type': {'type': 'PixelType', 'precision': 'double'}, 'dimensions': [16384, 16384], 'crs': 'EPSG:32628', 'crs_transform': [10, 0, 336160, 0, 10, 7208960]}, {'id': 'A41', 'data_type': {'type': 'PixelType', 'precision': 'double'}, 'dimensions': [16384, 16384], 'crs': 'EPSG:32628', 'crs_transform': [10, 0, 336160, 0, 10, 7208960]}, {'id': 'A42', 'data_type': {'type': 'PixelType', 'precision': 'double'}, 'dimensions': [16384, 16384], 'crs': 'EPSG:32628', 'crs_transform': [10, 0, 336160, 0, 10, 7208960]}, {'id': 'A43', 'data_type': {'type': 'PixelType', 'precision': 'double'}, 'dimensions': [16384, 16384], 'crs': 'EPSG:32628', 'crs_transform': [10, 0, 336160, 0, 10, 7208960]}, {'id': 'A44', 'data_type': {'type': 'PixelType', 'precision': 'double'}, 'dimensions': [16384, 16384], 'crs': 'EPSG:32628', 'crs_transform': [10, 0, 336160, 0, 10, 7208960]}, {'id': 'A45', 'data_type': {'type': 'PixelType', 'precision': 'double'}, 'dimensions': [16384, 16384], 'crs': 'EPSG:32628', 'crs_transform': [10, 0, 336160, 0, 10, 7208960]}, {'id': 'A46', 'data_type': {'type': 'PixelType', 'precision': 'double'}, 'dimensions': [16384, 16384], 'crs': 'EPSG:32628', 'crs_transform': [10, 0, 336160, 0, 10, 7208960]}, {'id': 'A47', 'data_type': {'type': 'PixelType', 'precision': 'double'}, 'dimensions': [16384, 16384], 'crs': 'EPSG:32628', 'crs_transform': [10, 0, 336160, 0, 10, 7208960]}, {'id': 'A48', 'data_type': {'type': 'PixelType', 'precision': 'double'}, 'dimensions': [16384, 16384], 'crs': 'EPSG:32628', 'crs_transform': [10, 0, 336160, 0, 10, 7208960]}, {'id': 'A49', 'data_type': {'type': 'PixelType', 'precision': 'double'}, 'dimensions': [16384, 16384], 'crs': 'EPSG:32628', 'crs_transform': [10, 0, 336160, 0, 10, 7208960]}, {'id': 'A50', 'data_type': {'type': 'PixelType', 'precision': 'double'}, 'dimensions': [16384, 16384], 'crs': 'EPSG:32628', 'crs_transform': [10, 0, 336160, 0, 10, 7208960]}, {'id': 'A51', 'data_type': {'type': 'PixelType', 'precision': 'double'}, 'dimensions': [16384, 16384], 'crs': 'EPSG:32628', 'crs_transform': [10, 0, 336160, 0, 10, 7208960]}, {'id': 'A52', 'data_type': {'type': 'PixelType', 'precision': 'double'}, 'dimensions': [16384, 16384], 'crs': 'EPSG:32628', 'crs_transform': [10, 0, 336160, 0, 10, 7208960]}, {'id': 'A53', 'data_type': {'type': 'PixelType', 'precision': 'double'}, 'dimensions': [16384, 16384], 'crs': 'EPSG:32628', 'crs_transform': [10, 0, 336160, 0, 10, 7208960]}, {'id': 'A54', 'data_type': {'type': 'PixelType', 'precision': 'double'}, 'dimensions': [16384, 16384], 'crs': 'EPSG:32628', 'crs_transform': [10, 0, 336160, 0, 10, 7208960]}, {'id': 'A55', 'data_type': {'type': 'PixelType', 'precision': 'double'}, 'dimensions': [16384, 16384], 'crs': 'EPSG:32628', 'crs_transform': [10, 0, 336160, 0, 10, 7208960]}, {'id': 'A56', 'data_type': {'type': 'PixelType', 'precision': 'double'}, 'dimensions': [16384, 16384], 'crs': 'EPSG:32628', 'crs_transform': [10, 0, 336160, 0, 10, 7208960]}, {'id': 'A57', 'data_type': {'type': 'PixelType', 'precision': 'double'}, 'dimensions': [16384, 16384], 'crs': 'EPSG:32628', 'crs_transform': [10, 0, 336160, 0, 10, 7208960]}, {'id': 'A58', 'data_type': {'type': 'PixelType', 'precision': 'double'}, 'dimensions': [16384, 16384], 'crs': 'EPSG:32628', 'crs_transform': [10, 0, 336160, 0, 10, 7208960]}, {'id': 'A59', 'data_type': {'type': 'PixelType', 'precision': 'double'}, 'dimensions': [16384, 16384], 'crs': 'EPSG:32628', 'crs_transform': [10, 0, 336160, 0, 10, 7208960]}, {'id': 'A60', 'data_type': {'type': 'PixelType', 'precision': 'double'}, 'dimensions': [16384, 16384], 'crs': 'EPSG:32628', 'crs_transform': [10, 0, 336160, 0, 10, 7208960]}, {'id': 'A61', 'data_type': {'type': 'PixelType', 'precision': 'double'}, 'dimensions': [16384, 16384], 'crs': 'EPSG:32628', 'crs_transform': [10, 0, 336160, 0, 10, 7208960]}, {'id': 'A62', 'data_type': {'type': 'PixelType', 'precision': 'double'}, 'dimensions': [16384, 16384], 'crs': 'EPSG:32628', 'crs_transform': [10, 0, 336160, 0, 10, 7208960]}, {'id': 'A63', 'data_type': {'type': 'PixelType', 'precision': 'double'}, 'dimensions': [16384, 16384], 'crs': 'EPSG:32628', 'crs_transform': [10, 0, 336160, 0, 10, 7208960]}], 'version': 1751567047349215, 'id': 'GOOGLE/SATELLITE_EMBEDDING/V1/ANNUAL/xq771ak2z08dejizp', 'properties': {'system:time_end': 1735689600000, 'system:index': 'xq771ak2z08dejizp', 'system:time_start': 1704067200000, 'PROCESSING_SOFTWARE_VERSION': '1.01', 'UTM_ZONE': '28N', 'MODEL_VERSION': '2.1', 'DATASET_VERSION': '1.0'}}\n"
          ]
        },
        {
          "output_type": "error",
          "ename": "AttributeError",
          "evalue": "'Map' object has no attribute 'add_ee_layer'",
          "traceback": [
            "\u001b[0;31m---------------------------------------------------------------------------\u001b[0m",
            "\u001b[0;31mAttributeError\u001b[0m                            Traceback (most recent call last)",
            "\u001b[0;32m/tmp/ipython-input-3962038385.py\u001b[0m in \u001b[0;36m<cell line: 0>\u001b[0;34m()\u001b[0m\n\u001b[1;32m     24\u001b[0m \u001b[0;34m\u001b[0m\u001b[0m\n\u001b[1;32m     25\u001b[0m \u001b[0;31m# Add the embedding layer to the map\u001b[0m\u001b[0;34m\u001b[0m\u001b[0;34m\u001b[0m\u001b[0m\n\u001b[0;32m---> 26\u001b[0;31m \u001b[0membedding_map\u001b[0m\u001b[0;34m.\u001b[0m\u001b[0madd_ee_layer\u001b[0m\u001b[0;34m(\u001b[0m\u001b[0mmost_recent_embedding_image\u001b[0m\u001b[0;34m,\u001b[0m \u001b[0membedding_vis_params\u001b[0m\u001b[0;34m,\u001b[0m \u001b[0;34m'Satellite Embedding'\u001b[0m\u001b[0;34m)\u001b[0m\u001b[0;34m\u001b[0m\u001b[0;34m\u001b[0m\u001b[0m\n\u001b[0m\u001b[1;32m     27\u001b[0m \u001b[0;34m\u001b[0m\u001b[0m\n\u001b[1;32m     28\u001b[0m \u001b[0;31m# Add a layer control panel to the map\u001b[0m\u001b[0;34m\u001b[0m\u001b[0;34m\u001b[0m\u001b[0m\n",
            "\u001b[0;31mAttributeError\u001b[0m: 'Map' object has no attribute 'add_ee_layer'"
          ]
        }
      ]
    },
    {
      "cell_type": "markdown",
      "metadata": {
        "id": "87f4843c"
      },
      "source": [
        "### Inspect Band Values for Visualization\n",
        "\n",
        "**Reasoning**:\n",
        "Calculate and print the minimum and maximum values for the 'A00', 'A01', and 'A02' bands within the area of interest to determine appropriate visualization parameters."
      ]
    }
  ]
}